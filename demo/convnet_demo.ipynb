{
 "cells": [
  {
   "cell_type": "code",
   "execution_count": 1,
   "metadata": {},
   "outputs": [],
   "source": [
    "%load_ext autoreload\n",
    "%autoreload 2\n",
    "%matplotlib inline"
   ]
  },
  {
   "cell_type": "code",
   "execution_count": 2,
   "metadata": {},
   "outputs": [
    {
     "name": "stderr",
     "output_type": "stream",
     "text": [
      "WARNING: Logging before flag parsing goes to stderr.\n",
      "W0902 16:58:43.762134 139903092582208 secure_random.py:26] Falling back to insecure randomness since the required custom op could not be found for the installed version of TensorFlow. Fix this by compiling custom ops. Missing file was '/home/daniel/.virtualenvs/tf/lib/python3.6/site-packages/tf_encrypted/operations/secure_random/secure_random_module_tf_1.14.0.so'\n",
      "W0902 16:58:43.772565 139903092582208 deprecation_wrapper.py:119] From /home/daniel/.virtualenvs/tf/lib/python3.6/site-packages/tf_encrypted/session.py:26: The name tf.Session is deprecated. Please use tf.compat.v1.Session instead.\n",
      "\n"
     ]
    }
   ],
   "source": [
    "import sys\n",
    "import logging\n",
    "\n",
    "from neoglia.workers.connect_workers import connect\n",
    "from neoglia.learn.utils import setup_logging\n",
    "from neoglia.learn.config import LearnConfig\n",
    "from neoglia.learn.losses import cross_entropy, binary_cross_entropy\n",
    "from neoglia.learn.models import ConvNet, FFNet\n",
    "from neoglia.learn.learner import Learner"
   ]
  },
  {
   "cell_type": "code",
   "execution_count": 3,
   "metadata": {},
   "outputs": [],
   "source": [
    "# Create logger\n",
    "logger = logging.getLogger()\n",
    "logger.setLevel(logging.INFO)\n",
    "\n",
    "# Create STDERR handler\n",
    "handler = logging.StreamHandler(sys.stderr)\n",
    "# ch.setLevel(logging.DEBUG)\n",
    "\n",
    "# Create formatter and add it to the handler\n",
    "formatter = logging.Formatter('%(name)s - %(levelname)s - %(message)s')\n",
    "handler.setFormatter(formatter)\n",
    "\n",
    "# Set STDERR handler as the only handler \n",
    "logger.handlers = [handler]"
   ]
  },
  {
   "cell_type": "markdown",
   "metadata": {},
   "source": [
    "## Connect to data nodes\n",
    "\n",
    "In this demo, we have 3 distinct hospitals. Each is an indenpendent EC2 instance on AWS."
   ]
  },
  {
   "cell_type": "code",
   "execution_count": 4,
   "metadata": {},
   "outputs": [
    {
     "name": "stderr",
     "output_type": "stream",
     "text": [
      "neoglia.workers.connect_workers - INFO - Connected to worker h1.\n",
      "neoglia.workers.connect_workers - INFO - Connected to worker h2.\n",
      "neoglia.workers.connect_workers - INFO - Connected to worker h3.\n"
     ]
    }
   ],
   "source": [
    "h1, h2, h3 = connect(local=True)"
   ]
  },
  {
   "cell_type": "markdown",
   "metadata": {},
   "source": [
    "Check the datasets they have and the dimensions of these."
   ]
  },
  {
   "cell_type": "code",
   "execution_count": 5,
   "metadata": {},
   "outputs": [
    {
     "data": {
      "text/plain": [
       "['mnist_train',\n",
       " 'mnist_test',\n",
       " 'eicu_class_train',\n",
       " 'eicu_class_test',\n",
       " 'eicu_reg_train',\n",
       " 'eicu_reg_test']"
      ]
     },
     "execution_count": 5,
     "metadata": {},
     "output_type": "execute_result"
    }
   ],
   "source": [
    "h1.datasets"
   ]
  },
  {
   "cell_type": "code",
   "execution_count": 6,
   "metadata": {},
   "outputs": [
    {
     "data": {
      "text/plain": [
       "{'mnist_train': (None, 28, 28),\n",
       " 'mnist_test': (None, 28, 28),\n",
       " 'eicu_class_train': (None, 103),\n",
       " 'eicu_class_test': (None, 103),\n",
       " 'eicu_reg_train': (None, 103),\n",
       " 'eicu_reg_test': (None, 103)}"
      ]
     },
     "execution_count": 6,
     "metadata": {},
     "output_type": "execute_result"
    }
   ],
   "source": [
    "h1.dataset_input_dims"
   ]
  },
  {
   "cell_type": "code",
   "execution_count": 7,
   "metadata": {},
   "outputs": [
    {
     "data": {
      "text/plain": [
       "{'mnist_train': (None, 10),\n",
       " 'mnist_test': (None, 10),\n",
       " 'eicu_class_train': (None, 1),\n",
       " 'eicu_class_test': (None, 1),\n",
       " 'eicu_reg_train': (None, 1),\n",
       " 'eicu_reg_test': (None, 1)}"
      ]
     },
     "execution_count": 7,
     "metadata": {},
     "output_type": "execute_result"
    }
   ],
   "source": [
    "h1.dataset_output_dims"
   ]
  },
  {
   "cell_type": "code",
   "execution_count": 8,
   "metadata": {},
   "outputs": [
    {
     "data": {
      "text/plain": [
       "{'mnist_train': 12000,\n",
       " 'mnist_test': 10000,\n",
       " 'eicu_class_train': 4778,\n",
       " 'eicu_class_test': 5421,\n",
       " 'eicu_reg_train': 4778,\n",
       " 'eicu_reg_test': 5421}"
      ]
     },
     "execution_count": 8,
     "metadata": {},
     "output_type": "execute_result"
    }
   ],
   "source": [
    "h1.dataset_sizes"
   ]
  },
  {
   "cell_type": "code",
   "execution_count": 9,
   "metadata": {},
   "outputs": [
    {
     "data": {
      "text/plain": [
       "{'mnist_train': 12000,\n",
       " 'mnist_test': 10000,\n",
       " 'eicu_class_train': 3981,\n",
       " 'eicu_class_test': 5421,\n",
       " 'eicu_reg_train': 3981,\n",
       " 'eicu_reg_test': 5421}"
      ]
     },
     "execution_count": 9,
     "metadata": {},
     "output_type": "execute_result"
    }
   ],
   "source": [
    "h2.dataset_sizes"
   ]
  },
  {
   "cell_type": "markdown",
   "metadata": {},
   "source": [
    "## Train a convolutional neural network on the mnist dataset with federated averaging\n",
    "\n",
    "Each hospital holds a subset of the training data but they all share the same test data."
   ]
  },
  {
   "cell_type": "markdown",
   "metadata": {},
   "source": [
    "## Define the config file for this experiment\n",
    "\n",
    "This holds everything from the learning rate to the batch size. \n",
    "\n",
    "First let's check the available parameters. Note, this object can take a yml config file (good for reproducible experiments) or be parametrised when instantiated."
   ]
  },
  {
   "cell_type": "code",
   "execution_count": 10,
   "metadata": {},
   "outputs": [
    {
     "data": {
      "text/plain": [
       "\u001b[0;31mInit signature:\u001b[0m\n",
       "\u001b[0mLearnConfig\u001b[0m\u001b[0;34m(\u001b[0m\u001b[0;34m\u001b[0m\n",
       "\u001b[0;34m\u001b[0m    \u001b[0;34m[\u001b[0m\u001b[0;34m'config_file=None'\u001b[0m\u001b[0;34m,\u001b[0m \u001b[0;34m'train_dataset_name=None'\u001b[0m\u001b[0;34m,\u001b[0m \u001b[0;34m'test_dataset_name=None'\u001b[0m\u001b[0;34m,\u001b[0m \u001b[0;34m'train_batch_size=64'\u001b[0m\u001b[0;34m,\u001b[0m \u001b[0;34m'test_batch_size=128'\u001b[0m\u001b[0;34m,\u001b[0m \u001b[0;34m'train_epochs=40'\u001b[0m\u001b[0;34m,\u001b[0m \u001b[0;34m'fed_after_n_batches=10'\u001b[0m\u001b[0;34m,\u001b[0m \u001b[0;34m'lr=0.1'\u001b[0m\u001b[0;34m,\u001b[0m \u001b[0;34m'cuda=False'\u001b[0m\u001b[0;34m,\u001b[0m \u001b[0;34m'seed=42'\u001b[0m\u001b[0;34m,\u001b[0m \u001b[0;34m'save_model=True'\u001b[0m\u001b[0;34m,\u001b[0m \u001b[0;34m'verbose=True'\u001b[0m\u001b[0;34m]\u001b[0m\u001b[0;34m,\u001b[0m\u001b[0;34m\u001b[0m\n",
       "\u001b[0;34m\u001b[0m\u001b[0;34m)\u001b[0m\u001b[0;34m\u001b[0m\u001b[0;34m\u001b[0m\u001b[0m\n",
       "\u001b[0;31mDocstring:\u001b[0m      Config dict object, holding all parameters for the training and evaluation.\n",
       "\u001b[0;31mInit docstring:\u001b[0m\n",
       "Constructor of the subclassed dict object.\n",
       "\n",
       "Args:\n",
       "    config_file (str): Location of config YAML file. If provided, all\n",
       "        parameters that are defined within will override the defaults here.\n",
       "    train_dataset_name (str): Name of the remote dataset to train on.\n",
       "    test_dataset_name (str): Name of the remote dataset to test on.\n",
       "    train_batch_size (int): Batch size for training.\n",
       "    test_batch_size (int): Batch size for evaluation.\n",
       "    train_epochs (int): Number of epochs performed altogether for training on\n",
       "        remote workers.\n",
       "    fed_after_n_batches (int): Number of training epochs performed on each\n",
       "        remote worker before averaging global model.\n",
       "    lr (float): Learning rate for the optimizer.\n",
       "    cuda (bool): Whether the remote workers have GPUs and CUDA enabled.\n",
       "    seed (int): Seed for reproducibility.\n",
       "    save_model (bool): Whether to save the global model. If yes, it is\n",
       "        saved where the python interpreter is running.\n",
       "    verbose (bool): Verbosity - false: not entirely silent, but quite minimal.\n",
       "\u001b[0;31mFile:\u001b[0m           ~/Dropbox/NG/proto/proto/src/neoglia/learn/config.py\n",
       "\u001b[0;31mType:\u001b[0m           type\n",
       "\u001b[0;31mSubclasses:\u001b[0m     \n"
      ]
     },
     "metadata": {},
     "output_type": "display_data"
    }
   ],
   "source": [
    "?LearnConfig"
   ]
  },
  {
   "cell_type": "code",
   "execution_count": 6,
   "metadata": {},
   "outputs": [],
   "source": [
    "config = LearnConfig(\"mnist_config.yml\")\n",
    "config.fed_after_n_batches = 3"
   ]
  },
  {
   "cell_type": "markdown",
   "metadata": {},
   "source": [
    "## Define model architecture and loss function\n",
    "\n",
    "Define a model architecture in Torch, or simply load one of NeoGlia's predefined ones."
   ]
  },
  {
   "cell_type": "code",
   "execution_count": 7,
   "metadata": {},
   "outputs": [
    {
     "data": {
      "text/plain": [
       "ConvNet(\n",
       "  (conv1): Conv2d(1, 20, kernel_size=(5, 5), stride=(1, 1))\n",
       "  (conv2): Conv2d(20, 50, kernel_size=(5, 5), stride=(1, 1))\n",
       "  (fc1): Linear(in_features=800, out_features=500, bias=True)\n",
       "  (fc2): Linear(in_features=500, out_features=10, bias=True)\n",
       ")"
      ]
     },
     "execution_count": 7,
     "metadata": {},
     "output_type": "execute_result"
    }
   ],
   "source": [
    "model = ConvNet()\n",
    "model"
   ]
  },
  {
   "cell_type": "markdown",
   "metadata": {},
   "source": [
    "We'll use cross entropy in this example as a loss function as this is a multi-class problem."
   ]
  },
  {
   "cell_type": "markdown",
   "metadata": {},
   "source": [
    "## Start training and evaluating the model in a federated manner. "
   ]
  },
  {
   "cell_type": "code",
   "execution_count": 9,
   "metadata": {},
   "outputs": [],
   "source": [
    "fed_learner = Learner(\n",
    "    config,\n",
    "    model, \n",
    "    cross_entropy, \n",
    "    (h1, h2, h3)\n",
    ")"
   ]
  },
  {
   "cell_type": "code",
   "execution_count": 10,
   "metadata": {},
   "outputs": [
    {
     "name": "stderr",
     "output_type": "stream",
     "text": [
      "neoglia.learn.learner - INFO - Starting epoch 1/41\n",
      "neoglia.learn.learner - INFO - Training round: 0, worker: h1, avg_loss: tensor(1.3771, grad_fn=<MeanBackward1>)\n",
      "neoglia.learn.learner - INFO - Training round: 0, worker: h2, avg_loss: tensor(1.0846, grad_fn=<MeanBackward1>)\n",
      "neoglia.learn.learner - INFO - Training round: 0, worker: h3, avg_loss: tensor(1.1661, grad_fn=<MeanBackward1>)\n",
      "neoglia.learn.learner - INFO - Starting epoch 2/41\n",
      "neoglia.learn.learner - INFO - Training round: 1, worker: h3, avg_loss: tensor(2.6779, grad_fn=<MeanBackward1>)\n",
      "neoglia.learn.learner - INFO - Training round: 1, worker: h1, avg_loss: tensor(1.9157, grad_fn=<MeanBackward1>)\n",
      "neoglia.learn.learner - INFO - Training round: 1, worker: h2, avg_loss: tensor(3.3065, grad_fn=<MeanBackward1>)\n",
      "neoglia.learn.learner - INFO - Starting epoch 3/41\n",
      "neoglia.learn.learner - INFO - Training round: 2, worker: h2, avg_loss: tensor(2.1574, grad_fn=<MeanBackward1>)\n",
      "neoglia.learn.learner - INFO - Training round: 2, worker: h1, avg_loss: tensor(2.0622, grad_fn=<MeanBackward1>)\n",
      "neoglia.learn.learner - INFO - Training round: 2, worker: h3, avg_loss: tensor(2.1279, grad_fn=<MeanBackward1>)\n",
      "neoglia.learn.learner - INFO - Starting epoch 4/41\n",
      "neoglia.learn.learner - INFO - Training round: 3, worker: h2, avg_loss: tensor(1.6279, grad_fn=<MeanBackward1>)\n",
      "neoglia.learn.learner - INFO - Training round: 3, worker: h3, avg_loss: tensor(1.7605, grad_fn=<MeanBackward1>)\n",
      "neoglia.learn.learner - INFO - Training round: 3, worker: h1, avg_loss: tensor(1.6836, grad_fn=<MeanBackward1>)\n",
      "neoglia.learn.learner - INFO - h1: Test set: Average loss: 0.0220, Accuracy: 2966/10000 (29.66)\n",
      "neoglia.learn.learner - INFO - h2: Test set: Average loss: 0.0279, Accuracy: 958/10000 (9.58)\n",
      "neoglia.learn.learner - INFO - h3: Test set: Average loss: 0.0231, Accuracy: 974/10000 (9.74)\n",
      "neoglia.learn.learner - INFO - Federated model: Test set: Average loss: 0.0174, Accuracy: 2903/10000 (29.03)\n",
      "neoglia.learn.learner - INFO - Starting epoch 5/41\n",
      "neoglia.learn.learner - INFO - Training round: 4, worker: h3, avg_loss: tensor(1.2834, grad_fn=<MeanBackward1>)\n",
      "neoglia.learn.learner - INFO - Training round: 4, worker: h2, avg_loss: tensor(1.8351, grad_fn=<MeanBackward1>)\n",
      "neoglia.learn.learner - INFO - Training round: 4, worker: h1, avg_loss: tensor(1.2564, grad_fn=<MeanBackward1>)\n",
      "neoglia.learn.learner - INFO - Starting epoch 6/41\n",
      "neoglia.learn.learner - INFO - Training round: 5, worker: h2, avg_loss: tensor(1.5057, grad_fn=<MeanBackward1>)\n",
      "neoglia.learn.learner - INFO - Training round: 5, worker: h1, avg_loss: tensor(0.8730, grad_fn=<MeanBackward1>)\n",
      "neoglia.learn.learner - INFO - Training round: 5, worker: h3, avg_loss: tensor(1.6303, grad_fn=<MeanBackward1>)\n",
      "neoglia.learn.learner - INFO - Starting epoch 7/41\n",
      "neoglia.learn.learner - INFO - Training round: 6, worker: h3, avg_loss: tensor(1.1607, grad_fn=<MeanBackward1>)\n",
      "neoglia.learn.learner - INFO - Training round: 6, worker: h2, avg_loss: tensor(1.3205, grad_fn=<MeanBackward1>)\n",
      "neoglia.learn.learner - INFO - Training round: 6, worker: h1, avg_loss: tensor(0.9967, grad_fn=<MeanBackward1>)\n",
      "neoglia.learn.learner - INFO - h1: Test set: Average loss: 0.0321, Accuracy: 2111/10000 (21.11)\n",
      "neoglia.learn.learner - INFO - h2: Test set: Average loss: 0.0248, Accuracy: 1028/10000 (10.28)\n",
      "neoglia.learn.learner - INFO - h3: Test set: Average loss: 0.0334, Accuracy: 1772/10000 (17.72)\n",
      "neoglia.learn.learner - INFO - Federated model: Test set: Average loss: 0.0147, Accuracy: 4938/10000 (49.38)\n",
      "neoglia.learn.learner - INFO - Starting epoch 8/41\n",
      "neoglia.learn.learner - INFO - Training round: 7, worker: h1, avg_loss: tensor(1.1673, grad_fn=<MeanBackward1>)\n",
      "neoglia.learn.learner - INFO - Training round: 7, worker: h3, avg_loss: tensor(2.0078, grad_fn=<MeanBackward1>)\n",
      "neoglia.learn.learner - INFO - Training round: 7, worker: h2, avg_loss: tensor(1.2648, grad_fn=<MeanBackward1>)\n",
      "neoglia.learn.learner - INFO - Starting epoch 9/41\n",
      "neoglia.learn.learner - INFO - Training round: 8, worker: h3, avg_loss: tensor(0.7971, grad_fn=<MeanBackward1>)\n",
      "neoglia.learn.learner - INFO - Training round: 8, worker: h1, avg_loss: tensor(0.6185, grad_fn=<MeanBackward1>)\n",
      "neoglia.learn.learner - INFO - Training round: 8, worker: h2, avg_loss: tensor(0.8816, grad_fn=<MeanBackward1>)\n",
      "neoglia.learn.learner - INFO - Starting epoch 10/41\n",
      "neoglia.learn.learner - INFO - Training round: 9, worker: h2, avg_loss: tensor(2.5050, grad_fn=<MeanBackward1>)\n",
      "neoglia.learn.learner - INFO - Training round: 9, worker: h3, avg_loss: tensor(5.1568, grad_fn=<MeanBackward1>)\n",
      "neoglia.learn.learner - INFO - Training round: 9, worker: h1, avg_loss: tensor(2.2685, grad_fn=<MeanBackward1>)\n",
      "neoglia.learn.learner - INFO - h1: Test set: Average loss: 0.0190, Accuracy: 3034/10000 (30.34)\n",
      "neoglia.learn.learner - INFO - h2: Test set: Average loss: 0.0166, Accuracy: 2565/10000 (25.65)\n",
      "neoglia.learn.learner - INFO - h3: Test set: Average loss: 0.0181, Accuracy: 1009/10000 (10.09)\n",
      "neoglia.learn.learner - INFO - Federated model: Test set: Average loss: 0.0172, Accuracy: 3921/10000 (39.21)\n",
      "neoglia.learn.learner - INFO - Starting epoch 11/41\n",
      "neoglia.learn.learner - INFO - Training round: 10, worker: h3, avg_loss: tensor(1.9414, grad_fn=<MeanBackward1>)\n",
      "neoglia.learn.learner - INFO - Training round: 10, worker: h2, avg_loss: tensor(1.8875, grad_fn=<MeanBackward1>)\n",
      "neoglia.learn.learner - INFO - Training round: 10, worker: h1, avg_loss: tensor(1.4881, grad_fn=<MeanBackward1>)\n",
      "neoglia.learn.learner - INFO - Starting epoch 12/41\n",
      "neoglia.learn.learner - INFO - Training round: 11, worker: h1, avg_loss: tensor(0.9384, grad_fn=<MeanBackward1>)\n",
      "neoglia.learn.learner - INFO - Training round: 11, worker: h2, avg_loss: tensor(0.8751, grad_fn=<MeanBackward1>)\n",
      "neoglia.learn.learner - INFO - Training round: 11, worker: h3, avg_loss: tensor(1.2689, grad_fn=<MeanBackward1>)\n",
      "neoglia.learn.learner - INFO - Starting epoch 13/41\n",
      "neoglia.learn.learner - INFO - Training round: 12, worker: h3, avg_loss: tensor(1.4509, grad_fn=<MeanBackward1>)\n",
      "neoglia.learn.learner - INFO - Training round: 12, worker: h2, avg_loss: tensor(2.2542, grad_fn=<MeanBackward1>)\n",
      "neoglia.learn.learner - INFO - Training round: 12, worker: h1, avg_loss: tensor(0.5954, grad_fn=<MeanBackward1>)\n",
      "neoglia.learn.learner - INFO - h1: Test set: Average loss: 0.0211, Accuracy: 3445/10000 (34.45)\n",
      "neoglia.learn.learner - INFO - h2: Test set: Average loss: 0.0154, Accuracy: 3020/10000 (30.20)\n",
      "neoglia.learn.learner - INFO - h3: Test set: Average loss: 0.0228, Accuracy: 1009/10000 (10.09)\n",
      "neoglia.learn.learner - INFO - Federated model: Test set: Average loss: 0.0126, Accuracy: 4869/10000 (48.69)\n",
      "neoglia.learn.learner - INFO - Starting epoch 14/41\n",
      "neoglia.learn.learner - INFO - Training round: 13, worker: h2, avg_loss: tensor(0.5925, grad_fn=<MeanBackward1>)\n",
      "neoglia.learn.learner - INFO - Training round: 13, worker: h3, avg_loss: tensor(0.8201, grad_fn=<MeanBackward1>)\n",
      "neoglia.learn.learner - INFO - Training round: 13, worker: h1, avg_loss: tensor(0.5403, grad_fn=<MeanBackward1>)\n",
      "neoglia.learn.learner - INFO - Starting epoch 15/41\n",
      "neoglia.learn.learner - INFO - Training round: 14, worker: h2, avg_loss: tensor(0.7523, grad_fn=<MeanBackward1>)\n",
      "neoglia.learn.learner - INFO - Training round: 14, worker: h1, avg_loss: tensor(1.3321, grad_fn=<MeanBackward1>)\n",
      "neoglia.learn.learner - INFO - Training round: 14, worker: h3, avg_loss: tensor(2.1071, grad_fn=<MeanBackward1>)\n",
      "neoglia.learn.learner - INFO - Starting epoch 16/41\n",
      "neoglia.learn.learner - INFO - Training round: 15, worker: h2, avg_loss: tensor(0.6718, grad_fn=<MeanBackward1>)\n",
      "neoglia.learn.learner - INFO - Training round: 15, worker: h1, avg_loss: tensor(0.3780, grad_fn=<MeanBackward1>)\n",
      "neoglia.learn.learner - INFO - Training round: 15, worker: h3, avg_loss: tensor(0.4379, grad_fn=<MeanBackward1>)\n",
      "neoglia.learn.learner - INFO - h1: Test set: Average loss: 0.0129, Accuracy: 4408/10000 (44.08)\n",
      "neoglia.learn.learner - INFO - h2: Test set: Average loss: 0.0205, Accuracy: 2683/10000 (26.83)\n",
      "neoglia.learn.learner - INFO - h3: Test set: Average loss: 0.0180, Accuracy: 3170/10000 (31.70)\n",
      "neoglia.learn.learner - INFO - Federated model: Test set: Average loss: 0.0081, Accuracy: 6808/10000 (68.08)\n",
      "neoglia.learn.learner - INFO - Starting epoch 17/41\n",
      "neoglia.learn.learner - INFO - Training round: 16, worker: h2, avg_loss: tensor(0.6575, grad_fn=<MeanBackward1>)\n",
      "neoglia.learn.learner - INFO - Training round: 16, worker: h1, avg_loss: tensor(0.3101, grad_fn=<MeanBackward1>)\n",
      "neoglia.learn.learner - INFO - Training round: 16, worker: h3, avg_loss: tensor(1.1912, grad_fn=<MeanBackward1>)\n",
      "neoglia.learn.learner - INFO - Starting epoch 18/41\n",
      "neoglia.learn.learner - INFO - Training round: 17, worker: h1, avg_loss: tensor(0.3172, grad_fn=<MeanBackward1>)\n",
      "neoglia.learn.learner - INFO - Training round: 17, worker: h2, avg_loss: tensor(0.5100, grad_fn=<MeanBackward1>)\n",
      "neoglia.learn.learner - INFO - Training round: 17, worker: h3, avg_loss: tensor(0.8671, grad_fn=<MeanBackward1>)\n",
      "neoglia.learn.learner - INFO - Starting epoch 19/41\n",
      "neoglia.learn.learner - INFO - Training round: 18, worker: h1, avg_loss: tensor(0.2494, grad_fn=<MeanBackward1>)\n",
      "neoglia.learn.learner - INFO - Training round: 18, worker: h3, avg_loss: tensor(0.2060, grad_fn=<MeanBackward1>)\n",
      "neoglia.learn.learner - INFO - Training round: 18, worker: h2, avg_loss: tensor(0.4189, grad_fn=<MeanBackward1>)\n",
      "neoglia.learn.learner - INFO - h1: Test set: Average loss: 0.0167, Accuracy: 4031/10000 (40.31)\n",
      "neoglia.learn.learner - INFO - h2: Test set: Average loss: 0.0198, Accuracy: 3419/10000 (34.19)\n",
      "neoglia.learn.learner - INFO - h3: Test set: Average loss: 0.0167, Accuracy: 3643/10000 (36.43)\n",
      "neoglia.learn.learner - INFO - Federated model: Test set: Average loss: 0.0054, Accuracy: 8183/10000 (81.83)\n",
      "neoglia.learn.learner - INFO - Starting epoch 20/41\n",
      "neoglia.learn.learner - INFO - Training round: 19, worker: h2, avg_loss: tensor(0.0944, grad_fn=<MeanBackward1>)\n",
      "neoglia.learn.learner - INFO - Training round: 19, worker: h1, avg_loss: tensor(0.1655, grad_fn=<MeanBackward1>)\n"
     ]
    },
    {
     "ename": "KeyboardInterrupt",
     "evalue": "",
     "output_type": "error",
     "traceback": [
      "\u001b[0;31m---------------------------------------------------------------------------\u001b[0m",
      "\u001b[0;31mKeyboardInterrupt\u001b[0m                         Traceback (most recent call last)",
      "\u001b[0;32m<ipython-input-10-f28fe2528163>\u001b[0m in \u001b[0;36m<module>\u001b[0;34m\u001b[0m\n\u001b[0;32m----> 1\u001b[0;31m \u001b[0mfed_learner\u001b[0m\u001b[0;34m.\u001b[0m\u001b[0mtrain_eval\u001b[0m\u001b[0;34m(\u001b[0m\u001b[0;34m)\u001b[0m\u001b[0;34m\u001b[0m\u001b[0;34m\u001b[0m\u001b[0m\n\u001b[0m",
      "\u001b[0;32m~/Dropbox/NG/proto/proto/src/neoglia/learn/learner.py\u001b[0m in \u001b[0;36mtrain_eval\u001b[0;34m(self)\u001b[0m\n\u001b[1;32m     73\u001b[0m         \"\"\"\n\u001b[1;32m     74\u001b[0m \u001b[0;34m\u001b[0m\u001b[0m\n\u001b[0;32m---> 75\u001b[0;31m         \u001b[0;32mreturn\u001b[0m \u001b[0mself\u001b[0m\u001b[0;34m.\u001b[0m\u001b[0mloop\u001b[0m\u001b[0;34m.\u001b[0m\u001b[0mrun_until_complete\u001b[0m\u001b[0;34m(\u001b[0m\u001b[0mself\u001b[0m\u001b[0;34m.\u001b[0m\u001b[0m_train_eval\u001b[0m\u001b[0;34m(\u001b[0m\u001b[0;34m)\u001b[0m\u001b[0;34m)\u001b[0m\u001b[0;34m\u001b[0m\u001b[0;34m\u001b[0m\u001b[0m\n\u001b[0m\u001b[1;32m     76\u001b[0m \u001b[0;34m\u001b[0m\u001b[0m\n\u001b[1;32m     77\u001b[0m     \u001b[0;34masync\u001b[0m \u001b[0;32mdef\u001b[0m \u001b[0m_train_eval\u001b[0m\u001b[0;34m(\u001b[0m\u001b[0mself\u001b[0m\u001b[0;34m)\u001b[0m\u001b[0;34m:\u001b[0m\u001b[0;34m\u001b[0m\u001b[0;34m\u001b[0m\u001b[0m\n",
      "\u001b[0;32m/usr/lib/python3.6/asyncio/base_events.py\u001b[0m in \u001b[0;36mrun_until_complete\u001b[0;34m(self, future)\u001b[0m\n\u001b[1;32m    458\u001b[0m         \u001b[0mfuture\u001b[0m\u001b[0;34m.\u001b[0m\u001b[0madd_done_callback\u001b[0m\u001b[0;34m(\u001b[0m\u001b[0m_run_until_complete_cb\u001b[0m\u001b[0;34m)\u001b[0m\u001b[0;34m\u001b[0m\u001b[0;34m\u001b[0m\u001b[0m\n\u001b[1;32m    459\u001b[0m         \u001b[0;32mtry\u001b[0m\u001b[0;34m:\u001b[0m\u001b[0;34m\u001b[0m\u001b[0;34m\u001b[0m\u001b[0m\n\u001b[0;32m--> 460\u001b[0;31m             \u001b[0mself\u001b[0m\u001b[0;34m.\u001b[0m\u001b[0mrun_forever\u001b[0m\u001b[0;34m(\u001b[0m\u001b[0;34m)\u001b[0m\u001b[0;34m\u001b[0m\u001b[0;34m\u001b[0m\u001b[0m\n\u001b[0m\u001b[1;32m    461\u001b[0m         \u001b[0;32mexcept\u001b[0m\u001b[0;34m:\u001b[0m\u001b[0;34m\u001b[0m\u001b[0;34m\u001b[0m\u001b[0m\n\u001b[1;32m    462\u001b[0m             \u001b[0;32mif\u001b[0m \u001b[0mnew_task\u001b[0m \u001b[0;32mand\u001b[0m \u001b[0mfuture\u001b[0m\u001b[0;34m.\u001b[0m\u001b[0mdone\u001b[0m\u001b[0;34m(\u001b[0m\u001b[0;34m)\u001b[0m \u001b[0;32mand\u001b[0m \u001b[0;32mnot\u001b[0m \u001b[0mfuture\u001b[0m\u001b[0;34m.\u001b[0m\u001b[0mcancelled\u001b[0m\u001b[0;34m(\u001b[0m\u001b[0;34m)\u001b[0m\u001b[0;34m:\u001b[0m\u001b[0;34m\u001b[0m\u001b[0;34m\u001b[0m\u001b[0m\n",
      "\u001b[0;32m~/.virtualenvs/tf/lib/python3.6/site-packages/nest_asyncio.py\u001b[0m in \u001b[0;36mrun_forever\u001b[0;34m(self)\u001b[0m\n\u001b[1;32m     69\u001b[0m             \u001b[0;32mwhile\u001b[0m \u001b[0;32mTrue\u001b[0m\u001b[0;34m:\u001b[0m\u001b[0;34m\u001b[0m\u001b[0;34m\u001b[0m\u001b[0m\n\u001b[1;32m     70\u001b[0m                 \u001b[0;32mtry\u001b[0m\u001b[0;34m:\u001b[0m\u001b[0;34m\u001b[0m\u001b[0;34m\u001b[0m\u001b[0m\n\u001b[0;32m---> 71\u001b[0;31m                     \u001b[0mself\u001b[0m\u001b[0;34m.\u001b[0m\u001b[0m_run_once\u001b[0m\u001b[0;34m(\u001b[0m\u001b[0;34m)\u001b[0m\u001b[0;34m\u001b[0m\u001b[0;34m\u001b[0m\u001b[0m\n\u001b[0m\u001b[1;32m     72\u001b[0m                 \u001b[0;32mexcept\u001b[0m \u001b[0mIndexError\u001b[0m\u001b[0;34m:\u001b[0m\u001b[0;34m\u001b[0m\u001b[0;34m\u001b[0m\u001b[0m\n\u001b[1;32m     73\u001b[0m                     \u001b[0;31m# Ignore 'pop from an empty deque' errors.\u001b[0m\u001b[0;34m\u001b[0m\u001b[0;34m\u001b[0m\u001b[0;34m\u001b[0m\u001b[0m\n",
      "\u001b[0;32m/usr/lib/python3.6/asyncio/base_events.py\u001b[0m in \u001b[0;36m_run_once\u001b[0;34m(self)\u001b[0m\n\u001b[1;32m   1438\u001b[0m                     \u001b[0mself\u001b[0m\u001b[0;34m.\u001b[0m\u001b[0m_current_handle\u001b[0m \u001b[0;34m=\u001b[0m \u001b[0;32mNone\u001b[0m\u001b[0;34m\u001b[0m\u001b[0;34m\u001b[0m\u001b[0m\n\u001b[1;32m   1439\u001b[0m             \u001b[0;32melse\u001b[0m\u001b[0;34m:\u001b[0m\u001b[0;34m\u001b[0m\u001b[0;34m\u001b[0m\u001b[0m\n\u001b[0;32m-> 1440\u001b[0;31m                 \u001b[0mhandle\u001b[0m\u001b[0;34m.\u001b[0m\u001b[0m_run\u001b[0m\u001b[0;34m(\u001b[0m\u001b[0;34m)\u001b[0m\u001b[0;34m\u001b[0m\u001b[0;34m\u001b[0m\u001b[0m\n\u001b[0m\u001b[1;32m   1441\u001b[0m         \u001b[0mhandle\u001b[0m \u001b[0;34m=\u001b[0m \u001b[0;32mNone\u001b[0m  \u001b[0;31m# Needed to break cycles when an exception occurs.\u001b[0m\u001b[0;34m\u001b[0m\u001b[0;34m\u001b[0m\u001b[0m\n\u001b[1;32m   1442\u001b[0m \u001b[0;34m\u001b[0m\u001b[0m\n",
      "\u001b[0;32m/usr/lib/python3.6/asyncio/events.py\u001b[0m in \u001b[0;36m_run\u001b[0;34m(self)\u001b[0m\n\u001b[1;32m    143\u001b[0m     \u001b[0;32mdef\u001b[0m \u001b[0m_run\u001b[0m\u001b[0;34m(\u001b[0m\u001b[0mself\u001b[0m\u001b[0;34m)\u001b[0m\u001b[0;34m:\u001b[0m\u001b[0;34m\u001b[0m\u001b[0;34m\u001b[0m\u001b[0m\n\u001b[1;32m    144\u001b[0m         \u001b[0;32mtry\u001b[0m\u001b[0;34m:\u001b[0m\u001b[0;34m\u001b[0m\u001b[0;34m\u001b[0m\u001b[0m\n\u001b[0;32m--> 145\u001b[0;31m             \u001b[0mself\u001b[0m\u001b[0;34m.\u001b[0m\u001b[0m_callback\u001b[0m\u001b[0;34m(\u001b[0m\u001b[0;34m*\u001b[0m\u001b[0mself\u001b[0m\u001b[0;34m.\u001b[0m\u001b[0m_args\u001b[0m\u001b[0;34m)\u001b[0m\u001b[0;34m\u001b[0m\u001b[0;34m\u001b[0m\u001b[0m\n\u001b[0m\u001b[1;32m    146\u001b[0m         \u001b[0;32mexcept\u001b[0m \u001b[0mException\u001b[0m \u001b[0;32mas\u001b[0m \u001b[0mexc\u001b[0m\u001b[0;34m:\u001b[0m\u001b[0;34m\u001b[0m\u001b[0;34m\u001b[0m\u001b[0m\n\u001b[1;32m    147\u001b[0m             \u001b[0mcb\u001b[0m \u001b[0;34m=\u001b[0m \u001b[0m_format_callback_source\u001b[0m\u001b[0;34m(\u001b[0m\u001b[0mself\u001b[0m\u001b[0;34m.\u001b[0m\u001b[0m_callback\u001b[0m\u001b[0;34m,\u001b[0m \u001b[0mself\u001b[0m\u001b[0;34m.\u001b[0m\u001b[0m_args\u001b[0m\u001b[0;34m)\u001b[0m\u001b[0;34m\u001b[0m\u001b[0;34m\u001b[0m\u001b[0m\n",
      "\u001b[0;32m/usr/lib/python3.6/asyncio/tasks.py\u001b[0m in \u001b[0;36m_wakeup\u001b[0;34m(self, future)\u001b[0m\n\u001b[1;32m    259\u001b[0m             \u001b[0;31m# instead of `__next__()`, which is slower for futures\u001b[0m\u001b[0;34m\u001b[0m\u001b[0;34m\u001b[0m\u001b[0;34m\u001b[0m\u001b[0m\n\u001b[1;32m    260\u001b[0m             \u001b[0;31m# that return non-generator iterators from their `__iter__`.\u001b[0m\u001b[0;34m\u001b[0m\u001b[0;34m\u001b[0m\u001b[0;34m\u001b[0m\u001b[0m\n\u001b[0;32m--> 261\u001b[0;31m             \u001b[0mself\u001b[0m\u001b[0;34m.\u001b[0m\u001b[0m_step\u001b[0m\u001b[0;34m(\u001b[0m\u001b[0;34m)\u001b[0m\u001b[0;34m\u001b[0m\u001b[0;34m\u001b[0m\u001b[0m\n\u001b[0m\u001b[1;32m    262\u001b[0m         \u001b[0mself\u001b[0m \u001b[0;34m=\u001b[0m \u001b[0;32mNone\u001b[0m  \u001b[0;31m# Needed to break cycles when an exception occurs.\u001b[0m\u001b[0;34m\u001b[0m\u001b[0;34m\u001b[0m\u001b[0m\n\u001b[1;32m    263\u001b[0m \u001b[0;34m\u001b[0m\u001b[0m\n",
      "\u001b[0;32m~/.virtualenvs/tf/lib/python3.6/site-packages/nest_asyncio.py\u001b[0m in \u001b[0;36mstep\u001b[0;34m(task, exc)\u001b[0m\n\u001b[1;32m     99\u001b[0m         \u001b[0mcurr_task\u001b[0m \u001b[0;34m=\u001b[0m \u001b[0mcurr_tasks\u001b[0m\u001b[0;34m.\u001b[0m\u001b[0mget\u001b[0m\u001b[0;34m(\u001b[0m\u001b[0mtask\u001b[0m\u001b[0;34m.\u001b[0m\u001b[0m_loop\u001b[0m\u001b[0;34m)\u001b[0m\u001b[0;34m\u001b[0m\u001b[0;34m\u001b[0m\u001b[0m\n\u001b[1;32m    100\u001b[0m         \u001b[0;32mtry\u001b[0m\u001b[0;34m:\u001b[0m\u001b[0;34m\u001b[0m\u001b[0;34m\u001b[0m\u001b[0m\n\u001b[0;32m--> 101\u001b[0;31m             \u001b[0mstep_orig\u001b[0m\u001b[0;34m(\u001b[0m\u001b[0mtask\u001b[0m\u001b[0;34m,\u001b[0m \u001b[0mexc\u001b[0m\u001b[0;34m)\u001b[0m\u001b[0;34m\u001b[0m\u001b[0;34m\u001b[0m\u001b[0m\n\u001b[0m\u001b[1;32m    102\u001b[0m         \u001b[0;32mfinally\u001b[0m\u001b[0;34m:\u001b[0m\u001b[0;34m\u001b[0m\u001b[0;34m\u001b[0m\u001b[0m\n\u001b[1;32m    103\u001b[0m             \u001b[0;32mif\u001b[0m \u001b[0mcurr_task\u001b[0m \u001b[0;32mis\u001b[0m \u001b[0;32mNone\u001b[0m\u001b[0;34m:\u001b[0m\u001b[0;34m\u001b[0m\u001b[0;34m\u001b[0m\u001b[0m\n",
      "\u001b[0;32m/usr/lib/python3.6/asyncio/tasks.py\u001b[0m in \u001b[0;36m_step\u001b[0;34m(***failed resolving arguments***)\u001b[0m\n\u001b[1;32m    178\u001b[0m                 \u001b[0;31m# We use the `send` method directly, because coroutines\u001b[0m\u001b[0;34m\u001b[0m\u001b[0;34m\u001b[0m\u001b[0;34m\u001b[0m\u001b[0m\n\u001b[1;32m    179\u001b[0m                 \u001b[0;31m# don't have `__iter__` and `__next__` methods.\u001b[0m\u001b[0;34m\u001b[0m\u001b[0;34m\u001b[0m\u001b[0;34m\u001b[0m\u001b[0m\n\u001b[0;32m--> 180\u001b[0;31m                 \u001b[0mresult\u001b[0m \u001b[0;34m=\u001b[0m \u001b[0mcoro\u001b[0m\u001b[0;34m.\u001b[0m\u001b[0msend\u001b[0m\u001b[0;34m(\u001b[0m\u001b[0;32mNone\u001b[0m\u001b[0;34m)\u001b[0m\u001b[0;34m\u001b[0m\u001b[0;34m\u001b[0m\u001b[0m\n\u001b[0m\u001b[1;32m    181\u001b[0m             \u001b[0;32melse\u001b[0m\u001b[0;34m:\u001b[0m\u001b[0;34m\u001b[0m\u001b[0;34m\u001b[0m\u001b[0m\n\u001b[1;32m    182\u001b[0m                 \u001b[0mresult\u001b[0m \u001b[0;34m=\u001b[0m \u001b[0mcoro\u001b[0m\u001b[0;34m.\u001b[0m\u001b[0mthrow\u001b[0m\u001b[0;34m(\u001b[0m\u001b[0mexc\u001b[0m\u001b[0;34m)\u001b[0m\u001b[0;34m\u001b[0m\u001b[0;34m\u001b[0m\u001b[0m\n",
      "\u001b[0;32m~/Dropbox/NG/proto/proto/src/neoglia/learn/learner.py\u001b[0m in \u001b[0;36m_fit_model_on_worker\u001b[0;34m(self, worker, curr_round)\u001b[0m\n\u001b[1;32m    172\u001b[0m         )\n\u001b[1;32m    173\u001b[0m \u001b[0;34m\u001b[0m\u001b[0m\n\u001b[0;32m--> 174\u001b[0;31m         \u001b[0mmodel\u001b[0m \u001b[0;34m=\u001b[0m \u001b[0mtrain_config\u001b[0m\u001b[0;34m.\u001b[0m\u001b[0mmodel_ptr\u001b[0m\u001b[0;34m.\u001b[0m\u001b[0mget\u001b[0m\u001b[0;34m(\u001b[0m\u001b[0;34m)\u001b[0m\u001b[0;34m.\u001b[0m\u001b[0mobj\u001b[0m\u001b[0;34m\u001b[0m\u001b[0;34m\u001b[0m\u001b[0m\n\u001b[0m\u001b[1;32m    175\u001b[0m         \u001b[0;32mreturn\u001b[0m \u001b[0mworker\u001b[0m\u001b[0;34m.\u001b[0m\u001b[0mid\u001b[0m\u001b[0;34m,\u001b[0m \u001b[0mmodel\u001b[0m\u001b[0;34m,\u001b[0m \u001b[0mloss\u001b[0m\u001b[0;34m\u001b[0m\u001b[0;34m\u001b[0m\u001b[0m\n\u001b[1;32m    176\u001b[0m \u001b[0;34m\u001b[0m\u001b[0m\n",
      "\u001b[0;32m~/.virtualenvs/tf/lib/python3.6/site-packages/syft/generic/pointers/object_pointer.py\u001b[0m in \u001b[0;36mget\u001b[0;34m(self, deregister_ptr)\u001b[0m\n\u001b[1;32m    142\u001b[0m         \u001b[0;32melse\u001b[0m\u001b[0;34m:\u001b[0m\u001b[0;34m\u001b[0m\u001b[0;34m\u001b[0m\u001b[0m\n\u001b[1;32m    143\u001b[0m             \u001b[0;31m# get tensor from location\u001b[0m\u001b[0;34m\u001b[0m\u001b[0;34m\u001b[0m\u001b[0;34m\u001b[0m\u001b[0m\n\u001b[0;32m--> 144\u001b[0;31m             \u001b[0mobj\u001b[0m \u001b[0;34m=\u001b[0m \u001b[0mself\u001b[0m\u001b[0;34m.\u001b[0m\u001b[0mowner\u001b[0m\u001b[0;34m.\u001b[0m\u001b[0mrequest_obj\u001b[0m\u001b[0;34m(\u001b[0m\u001b[0mself\u001b[0m\u001b[0;34m.\u001b[0m\u001b[0mid_at_location\u001b[0m\u001b[0;34m,\u001b[0m \u001b[0mself\u001b[0m\u001b[0;34m.\u001b[0m\u001b[0mlocation\u001b[0m\u001b[0;34m)\u001b[0m\u001b[0;34m\u001b[0m\u001b[0;34m\u001b[0m\u001b[0m\n\u001b[0m\u001b[1;32m    145\u001b[0m \u001b[0;34m\u001b[0m\u001b[0m\n\u001b[1;32m    146\u001b[0m         \u001b[0;31m# Remove this pointer by default\u001b[0m\u001b[0;34m\u001b[0m\u001b[0;34m\u001b[0m\u001b[0;34m\u001b[0m\u001b[0m\n",
      "\u001b[0;32m~/.virtualenvs/tf/lib/python3.6/site-packages/syft/workers/base.py\u001b[0m in \u001b[0;36mrequest_obj\u001b[0;34m(self, obj_id, location)\u001b[0m\n\u001b[1;32m    543\u001b[0m             \u001b[0mA\u001b[0m \u001b[0mtorch\u001b[0m \u001b[0mTensor\u001b[0m \u001b[0;32mor\u001b[0m \u001b[0mVariable\u001b[0m \u001b[0mobject\u001b[0m\u001b[0;34m.\u001b[0m\u001b[0;34m\u001b[0m\u001b[0;34m\u001b[0m\u001b[0m\n\u001b[1;32m    544\u001b[0m         \"\"\"\n\u001b[0;32m--> 545\u001b[0;31m         \u001b[0mobj\u001b[0m \u001b[0;34m=\u001b[0m \u001b[0mself\u001b[0m\u001b[0;34m.\u001b[0m\u001b[0msend_msg\u001b[0m\u001b[0;34m(\u001b[0m\u001b[0mmessaging\u001b[0m\u001b[0;34m.\u001b[0m\u001b[0mObjectRequestMessage\u001b[0m\u001b[0;34m(\u001b[0m\u001b[0mobj_id\u001b[0m\u001b[0;34m)\u001b[0m\u001b[0;34m,\u001b[0m \u001b[0mlocation\u001b[0m\u001b[0;34m)\u001b[0m\u001b[0;34m\u001b[0m\u001b[0;34m\u001b[0m\u001b[0m\n\u001b[0m\u001b[1;32m    546\u001b[0m         \u001b[0;32mreturn\u001b[0m \u001b[0mobj\u001b[0m\u001b[0;34m\u001b[0m\u001b[0;34m\u001b[0m\u001b[0m\n\u001b[1;32m    547\u001b[0m \u001b[0;34m\u001b[0m\u001b[0m\n",
      "\u001b[0;32m~/.virtualenvs/tf/lib/python3.6/site-packages/syft/workers/base.py\u001b[0m in \u001b[0;36msend_msg\u001b[0;34m(self, message, location)\u001b[0m\n\u001b[1;32m    234\u001b[0m \u001b[0;34m\u001b[0m\u001b[0m\n\u001b[1;32m    235\u001b[0m         \u001b[0;31m# Step 2: send the message and wait for a response\u001b[0m\u001b[0;34m\u001b[0m\u001b[0;34m\u001b[0m\u001b[0;34m\u001b[0m\u001b[0m\n\u001b[0;32m--> 236\u001b[0;31m         \u001b[0mbin_response\u001b[0m \u001b[0;34m=\u001b[0m \u001b[0mself\u001b[0m\u001b[0;34m.\u001b[0m\u001b[0m_send_msg\u001b[0m\u001b[0;34m(\u001b[0m\u001b[0mbin_message\u001b[0m\u001b[0;34m,\u001b[0m \u001b[0mlocation\u001b[0m\u001b[0;34m)\u001b[0m\u001b[0;34m\u001b[0m\u001b[0;34m\u001b[0m\u001b[0m\n\u001b[0m\u001b[1;32m    237\u001b[0m \u001b[0;34m\u001b[0m\u001b[0m\n\u001b[1;32m    238\u001b[0m         \u001b[0;31m# Step 3: deserialize the response\u001b[0m\u001b[0;34m\u001b[0m\u001b[0;34m\u001b[0m\u001b[0;34m\u001b[0m\u001b[0m\n",
      "\u001b[0;32m~/.virtualenvs/tf/lib/python3.6/site-packages/syft/workers/virtual.py\u001b[0m in \u001b[0;36m_send_msg\u001b[0;34m(self, message, location)\u001b[0m\n\u001b[1;32m      8\u001b[0m \u001b[0;32mclass\u001b[0m \u001b[0mVirtualWorker\u001b[0m\u001b[0;34m(\u001b[0m\u001b[0mBaseWorker\u001b[0m\u001b[0;34m,\u001b[0m \u001b[0mFederatedClient\u001b[0m\u001b[0;34m)\u001b[0m\u001b[0;34m:\u001b[0m\u001b[0;34m\u001b[0m\u001b[0;34m\u001b[0m\u001b[0m\n\u001b[1;32m      9\u001b[0m     \u001b[0;32mdef\u001b[0m \u001b[0m_send_msg\u001b[0m\u001b[0;34m(\u001b[0m\u001b[0mself\u001b[0m\u001b[0;34m,\u001b[0m \u001b[0mmessage\u001b[0m\u001b[0;34m:\u001b[0m \u001b[0mbin\u001b[0m\u001b[0;34m,\u001b[0m \u001b[0mlocation\u001b[0m\u001b[0;34m:\u001b[0m \u001b[0mBaseWorker\u001b[0m\u001b[0;34m)\u001b[0m \u001b[0;34m->\u001b[0m \u001b[0mbin\u001b[0m\u001b[0;34m:\u001b[0m\u001b[0;34m\u001b[0m\u001b[0;34m\u001b[0m\u001b[0m\n\u001b[0;32m---> 10\u001b[0;31m         \u001b[0;32mreturn\u001b[0m \u001b[0mlocation\u001b[0m\u001b[0;34m.\u001b[0m\u001b[0m_recv_msg\u001b[0m\u001b[0;34m(\u001b[0m\u001b[0mmessage\u001b[0m\u001b[0;34m)\u001b[0m\u001b[0;34m\u001b[0m\u001b[0;34m\u001b[0m\u001b[0m\n\u001b[0m\u001b[1;32m     11\u001b[0m \u001b[0;34m\u001b[0m\u001b[0m\n\u001b[1;32m     12\u001b[0m     \u001b[0;32mdef\u001b[0m \u001b[0m_recv_msg\u001b[0m\u001b[0;34m(\u001b[0m\u001b[0mself\u001b[0m\u001b[0;34m,\u001b[0m \u001b[0mmessage\u001b[0m\u001b[0;34m:\u001b[0m \u001b[0mbin\u001b[0m\u001b[0;34m)\u001b[0m \u001b[0;34m->\u001b[0m \u001b[0mbin\u001b[0m\u001b[0;34m:\u001b[0m\u001b[0;34m\u001b[0m\u001b[0;34m\u001b[0m\u001b[0m\n",
      "\u001b[0;32m~/.virtualenvs/tf/lib/python3.6/site-packages/syft/workers/websocket_client.py\u001b[0m in \u001b[0;36m_recv_msg\u001b[0;34m(self, message)\u001b[0m\n\u001b[1;32m     87\u001b[0m         \u001b[0;34m\"\"\"Forwards a message to the WebsocketServerWorker\"\"\"\u001b[0m\u001b[0;34m\u001b[0m\u001b[0;34m\u001b[0m\u001b[0m\n\u001b[1;32m     88\u001b[0m \u001b[0;34m\u001b[0m\u001b[0m\n\u001b[0;32m---> 89\u001b[0;31m         \u001b[0mresponse\u001b[0m \u001b[0;34m=\u001b[0m \u001b[0mself\u001b[0m\u001b[0;34m.\u001b[0m\u001b[0m_forward_to_websocket_server_worker\u001b[0m\u001b[0;34m(\u001b[0m\u001b[0mmessage\u001b[0m\u001b[0;34m)\u001b[0m\u001b[0;34m\u001b[0m\u001b[0;34m\u001b[0m\u001b[0m\n\u001b[0m\u001b[1;32m     90\u001b[0m         \u001b[0;32mif\u001b[0m \u001b[0;32mnot\u001b[0m \u001b[0mself\u001b[0m\u001b[0;34m.\u001b[0m\u001b[0mws\u001b[0m\u001b[0;34m.\u001b[0m\u001b[0mconnected\u001b[0m\u001b[0;34m:\u001b[0m\u001b[0;34m\u001b[0m\u001b[0;34m\u001b[0m\u001b[0m\n\u001b[1;32m     91\u001b[0m             \u001b[0mlogger\u001b[0m\u001b[0;34m.\u001b[0m\u001b[0mwarning\u001b[0m\u001b[0;34m(\u001b[0m\u001b[0;34m\"Websocket connection closed (worker: %s)\"\u001b[0m\u001b[0;34m,\u001b[0m \u001b[0mself\u001b[0m\u001b[0;34m.\u001b[0m\u001b[0mid\u001b[0m\u001b[0;34m)\u001b[0m\u001b[0;34m\u001b[0m\u001b[0;34m\u001b[0m\u001b[0m\n",
      "\u001b[0;32m~/.virtualenvs/tf/lib/python3.6/site-packages/syft/workers/websocket_client.py\u001b[0m in \u001b[0;36m_forward_to_websocket_server_worker\u001b[0;34m(self, message)\u001b[0m\n\u001b[1;32m     81\u001b[0m     \u001b[0;32mdef\u001b[0m \u001b[0m_forward_to_websocket_server_worker\u001b[0m\u001b[0;34m(\u001b[0m\u001b[0mself\u001b[0m\u001b[0;34m,\u001b[0m \u001b[0mmessage\u001b[0m\u001b[0;34m:\u001b[0m \u001b[0mbin\u001b[0m\u001b[0;34m)\u001b[0m \u001b[0;34m->\u001b[0m \u001b[0mbin\u001b[0m\u001b[0;34m:\u001b[0m\u001b[0;34m\u001b[0m\u001b[0;34m\u001b[0m\u001b[0m\n\u001b[1;32m     82\u001b[0m         \u001b[0mself\u001b[0m\u001b[0;34m.\u001b[0m\u001b[0mws\u001b[0m\u001b[0;34m.\u001b[0m\u001b[0msend\u001b[0m\u001b[0;34m(\u001b[0m\u001b[0mstr\u001b[0m\u001b[0;34m(\u001b[0m\u001b[0mbinascii\u001b[0m\u001b[0;34m.\u001b[0m\u001b[0mhexlify\u001b[0m\u001b[0;34m(\u001b[0m\u001b[0mmessage\u001b[0m\u001b[0;34m)\u001b[0m\u001b[0;34m)\u001b[0m\u001b[0;34m)\u001b[0m\u001b[0;34m\u001b[0m\u001b[0;34m\u001b[0m\u001b[0m\n\u001b[0;32m---> 83\u001b[0;31m         \u001b[0mresponse\u001b[0m \u001b[0;34m=\u001b[0m \u001b[0mbinascii\u001b[0m\u001b[0;34m.\u001b[0m\u001b[0munhexlify\u001b[0m\u001b[0;34m(\u001b[0m\u001b[0mself\u001b[0m\u001b[0;34m.\u001b[0m\u001b[0mws\u001b[0m\u001b[0;34m.\u001b[0m\u001b[0mrecv\u001b[0m\u001b[0;34m(\u001b[0m\u001b[0;34m)\u001b[0m\u001b[0;34m[\u001b[0m\u001b[0;36m2\u001b[0m\u001b[0;34m:\u001b[0m\u001b[0;34m-\u001b[0m\u001b[0;36m1\u001b[0m\u001b[0;34m]\u001b[0m\u001b[0;34m)\u001b[0m\u001b[0;34m\u001b[0m\u001b[0;34m\u001b[0m\u001b[0m\n\u001b[0m\u001b[1;32m     84\u001b[0m         \u001b[0;32mreturn\u001b[0m \u001b[0mresponse\u001b[0m\u001b[0;34m\u001b[0m\u001b[0;34m\u001b[0m\u001b[0m\n\u001b[1;32m     85\u001b[0m \u001b[0;34m\u001b[0m\u001b[0m\n",
      "\u001b[0;32m~/.virtualenvs/tf/lib/python3.6/site-packages/websocket/_core.py\u001b[0m in \u001b[0;36mrecv\u001b[0;34m(self)\u001b[0m\n\u001b[1;32m    311\u001b[0m         \"\"\"\n\u001b[1;32m    312\u001b[0m         \u001b[0;32mwith\u001b[0m \u001b[0mself\u001b[0m\u001b[0;34m.\u001b[0m\u001b[0mreadlock\u001b[0m\u001b[0;34m:\u001b[0m\u001b[0;34m\u001b[0m\u001b[0;34m\u001b[0m\u001b[0m\n\u001b[0;32m--> 313\u001b[0;31m             \u001b[0mopcode\u001b[0m\u001b[0;34m,\u001b[0m \u001b[0mdata\u001b[0m \u001b[0;34m=\u001b[0m \u001b[0mself\u001b[0m\u001b[0;34m.\u001b[0m\u001b[0mrecv_data\u001b[0m\u001b[0;34m(\u001b[0m\u001b[0;34m)\u001b[0m\u001b[0;34m\u001b[0m\u001b[0;34m\u001b[0m\u001b[0m\n\u001b[0m\u001b[1;32m    314\u001b[0m         \u001b[0;32mif\u001b[0m \u001b[0msix\u001b[0m\u001b[0;34m.\u001b[0m\u001b[0mPY3\u001b[0m \u001b[0;32mand\u001b[0m \u001b[0mopcode\u001b[0m \u001b[0;34m==\u001b[0m \u001b[0mABNF\u001b[0m\u001b[0;34m.\u001b[0m\u001b[0mOPCODE_TEXT\u001b[0m\u001b[0;34m:\u001b[0m\u001b[0;34m\u001b[0m\u001b[0;34m\u001b[0m\u001b[0m\n\u001b[1;32m    315\u001b[0m             \u001b[0;32mreturn\u001b[0m \u001b[0mdata\u001b[0m\u001b[0;34m.\u001b[0m\u001b[0mdecode\u001b[0m\u001b[0;34m(\u001b[0m\u001b[0;34m\"utf-8\"\u001b[0m\u001b[0;34m)\u001b[0m\u001b[0;34m\u001b[0m\u001b[0;34m\u001b[0m\u001b[0m\n",
      "\u001b[0;32m~/.virtualenvs/tf/lib/python3.6/site-packages/websocket/_core.py\u001b[0m in \u001b[0;36mrecv_data\u001b[0;34m(self, control_frame)\u001b[0m\n\u001b[1;32m    328\u001b[0m         \u001b[0;32mreturn\u001b[0m  \u001b[0mvalue\u001b[0m\u001b[0;34m:\u001b[0m \u001b[0mtuple\u001b[0m \u001b[0mof\u001b[0m \u001b[0moperation\u001b[0m \u001b[0mcode\u001b[0m \u001b[0;32mand\u001b[0m \u001b[0mstring\u001b[0m\u001b[0;34m(\u001b[0m\u001b[0mbyte\u001b[0m \u001b[0marray\u001b[0m\u001b[0;34m)\u001b[0m \u001b[0mvalue\u001b[0m\u001b[0;34m.\u001b[0m\u001b[0;34m\u001b[0m\u001b[0;34m\u001b[0m\u001b[0m\n\u001b[1;32m    329\u001b[0m         \"\"\"\n\u001b[0;32m--> 330\u001b[0;31m         \u001b[0mopcode\u001b[0m\u001b[0;34m,\u001b[0m \u001b[0mframe\u001b[0m \u001b[0;34m=\u001b[0m \u001b[0mself\u001b[0m\u001b[0;34m.\u001b[0m\u001b[0mrecv_data_frame\u001b[0m\u001b[0;34m(\u001b[0m\u001b[0mcontrol_frame\u001b[0m\u001b[0;34m)\u001b[0m\u001b[0;34m\u001b[0m\u001b[0;34m\u001b[0m\u001b[0m\n\u001b[0m\u001b[1;32m    331\u001b[0m         \u001b[0;32mreturn\u001b[0m \u001b[0mopcode\u001b[0m\u001b[0;34m,\u001b[0m \u001b[0mframe\u001b[0m\u001b[0;34m.\u001b[0m\u001b[0mdata\u001b[0m\u001b[0;34m\u001b[0m\u001b[0;34m\u001b[0m\u001b[0m\n\u001b[1;32m    332\u001b[0m \u001b[0;34m\u001b[0m\u001b[0m\n",
      "\u001b[0;32m~/.virtualenvs/tf/lib/python3.6/site-packages/websocket/_core.py\u001b[0m in \u001b[0;36mrecv_data_frame\u001b[0;34m(self, control_frame)\u001b[0m\n\u001b[1;32m    352\u001b[0m \u001b[0;34m\u001b[0m\u001b[0m\n\u001b[1;32m    353\u001b[0m                 \u001b[0;32mif\u001b[0m \u001b[0mself\u001b[0m\u001b[0;34m.\u001b[0m\u001b[0mcont_frame\u001b[0m\u001b[0;34m.\u001b[0m\u001b[0mis_fire\u001b[0m\u001b[0;34m(\u001b[0m\u001b[0mframe\u001b[0m\u001b[0;34m)\u001b[0m\u001b[0;34m:\u001b[0m\u001b[0;34m\u001b[0m\u001b[0;34m\u001b[0m\u001b[0m\n\u001b[0;32m--> 354\u001b[0;31m                     \u001b[0;32mreturn\u001b[0m \u001b[0mself\u001b[0m\u001b[0;34m.\u001b[0m\u001b[0mcont_frame\u001b[0m\u001b[0;34m.\u001b[0m\u001b[0mextract\u001b[0m\u001b[0;34m(\u001b[0m\u001b[0mframe\u001b[0m\u001b[0;34m)\u001b[0m\u001b[0;34m\u001b[0m\u001b[0;34m\u001b[0m\u001b[0m\n\u001b[0m\u001b[1;32m    355\u001b[0m \u001b[0;34m\u001b[0m\u001b[0m\n\u001b[1;32m    356\u001b[0m             \u001b[0;32melif\u001b[0m \u001b[0mframe\u001b[0m\u001b[0;34m.\u001b[0m\u001b[0mopcode\u001b[0m \u001b[0;34m==\u001b[0m \u001b[0mABNF\u001b[0m\u001b[0;34m.\u001b[0m\u001b[0mOPCODE_CLOSE\u001b[0m\u001b[0;34m:\u001b[0m\u001b[0;34m\u001b[0m\u001b[0;34m\u001b[0m\u001b[0m\n",
      "\u001b[0;32m~/.virtualenvs/tf/lib/python3.6/site-packages/websocket/_abnf.py\u001b[0m in \u001b[0;36mextract\u001b[0;34m(self, frame)\u001b[0m\n\u001b[1;32m    441\u001b[0m         \u001b[0mself\u001b[0m\u001b[0;34m.\u001b[0m\u001b[0mcont_data\u001b[0m \u001b[0;34m=\u001b[0m \u001b[0;32mNone\u001b[0m\u001b[0;34m\u001b[0m\u001b[0;34m\u001b[0m\u001b[0m\n\u001b[1;32m    442\u001b[0m         \u001b[0mframe\u001b[0m\u001b[0;34m.\u001b[0m\u001b[0mdata\u001b[0m \u001b[0;34m=\u001b[0m \u001b[0mdata\u001b[0m\u001b[0;34m[\u001b[0m\u001b[0;36m1\u001b[0m\u001b[0;34m]\u001b[0m\u001b[0;34m\u001b[0m\u001b[0;34m\u001b[0m\u001b[0m\n\u001b[0;32m--> 443\u001b[0;31m         \u001b[0;32mif\u001b[0m \u001b[0;32mnot\u001b[0m \u001b[0mself\u001b[0m\u001b[0;34m.\u001b[0m\u001b[0mfire_cont_frame\u001b[0m \u001b[0;32mand\u001b[0m \u001b[0mdata\u001b[0m\u001b[0;34m[\u001b[0m\u001b[0;36m0\u001b[0m\u001b[0;34m]\u001b[0m \u001b[0;34m==\u001b[0m \u001b[0mABNF\u001b[0m\u001b[0;34m.\u001b[0m\u001b[0mOPCODE_TEXT\u001b[0m \u001b[0;32mand\u001b[0m \u001b[0;32mnot\u001b[0m \u001b[0mself\u001b[0m\u001b[0;34m.\u001b[0m\u001b[0mskip_utf8_validation\u001b[0m \u001b[0;32mand\u001b[0m \u001b[0;32mnot\u001b[0m \u001b[0mvalidate_utf8\u001b[0m\u001b[0;34m(\u001b[0m\u001b[0mframe\u001b[0m\u001b[0;34m.\u001b[0m\u001b[0mdata\u001b[0m\u001b[0;34m)\u001b[0m\u001b[0;34m:\u001b[0m\u001b[0;34m\u001b[0m\u001b[0;34m\u001b[0m\u001b[0m\n\u001b[0m\u001b[1;32m    444\u001b[0m             raise WebSocketPayloadException(\n\u001b[1;32m    445\u001b[0m                 \"cannot decode: \" + repr(frame.data))\n",
      "\u001b[0;32m~/.virtualenvs/tf/lib/python3.6/site-packages/websocket/_utils.py\u001b[0m in \u001b[0;36mvalidate_utf8\u001b[0;34m(utfbytes)\u001b[0m\n\u001b[1;32m     96\u001b[0m     \u001b[0;32mreturn\u001b[0m \u001b[0mvalue\u001b[0m\u001b[0;34m:\u001b[0m \u001b[0;32mif\u001b[0m \u001b[0mvalid\u001b[0m \u001b[0mutf8\u001b[0m \u001b[0mstring\u001b[0m\u001b[0;34m,\u001b[0m \u001b[0;32mreturn\u001b[0m \u001b[0mtrue\u001b[0m\u001b[0;34m.\u001b[0m \u001b[0mOtherwise\u001b[0m\u001b[0;34m,\u001b[0m \u001b[0;32mreturn\u001b[0m \u001b[0mfalse\u001b[0m\u001b[0;34m.\u001b[0m\u001b[0;34m\u001b[0m\u001b[0;34m\u001b[0m\u001b[0m\n\u001b[1;32m     97\u001b[0m     \"\"\"\n\u001b[0;32m---> 98\u001b[0;31m     \u001b[0;32mreturn\u001b[0m \u001b[0m_validate_utf8\u001b[0m\u001b[0;34m(\u001b[0m\u001b[0mutfbytes\u001b[0m\u001b[0;34m)\u001b[0m\u001b[0;34m\u001b[0m\u001b[0;34m\u001b[0m\u001b[0m\n\u001b[0m\u001b[1;32m     99\u001b[0m \u001b[0;34m\u001b[0m\u001b[0m\n\u001b[1;32m    100\u001b[0m \u001b[0;34m\u001b[0m\u001b[0m\n",
      "\u001b[0;32m~/.virtualenvs/tf/lib/python3.6/site-packages/websocket/_utils.py\u001b[0m in \u001b[0;36m_validate_utf8\u001b[0;34m(utfbytes)\u001b[0m\n\u001b[1;32m     84\u001b[0m                 \u001b[0mi\u001b[0m \u001b[0;34m=\u001b[0m \u001b[0mord\u001b[0m\u001b[0;34m(\u001b[0m\u001b[0mi\u001b[0m\u001b[0;34m)\u001b[0m\u001b[0;34m\u001b[0m\u001b[0;34m\u001b[0m\u001b[0m\n\u001b[1;32m     85\u001b[0m             \u001b[0mstate\u001b[0m\u001b[0;34m,\u001b[0m \u001b[0mcodep\u001b[0m \u001b[0;34m=\u001b[0m \u001b[0m_decode\u001b[0m\u001b[0;34m(\u001b[0m\u001b[0mstate\u001b[0m\u001b[0;34m,\u001b[0m \u001b[0mcodep\u001b[0m\u001b[0;34m,\u001b[0m \u001b[0mi\u001b[0m\u001b[0;34m)\u001b[0m\u001b[0;34m\u001b[0m\u001b[0;34m\u001b[0m\u001b[0m\n\u001b[0;32m---> 86\u001b[0;31m             \u001b[0;32mif\u001b[0m \u001b[0mstate\u001b[0m \u001b[0;34m==\u001b[0m \u001b[0m_UTF8_REJECT\u001b[0m\u001b[0;34m:\u001b[0m\u001b[0;34m\u001b[0m\u001b[0;34m\u001b[0m\u001b[0m\n\u001b[0m\u001b[1;32m     87\u001b[0m                 \u001b[0;32mreturn\u001b[0m \u001b[0;32mFalse\u001b[0m\u001b[0;34m\u001b[0m\u001b[0;34m\u001b[0m\u001b[0m\n\u001b[1;32m     88\u001b[0m \u001b[0;34m\u001b[0m\u001b[0m\n",
      "\u001b[0;31mKeyboardInterrupt\u001b[0m: "
     ]
    },
    {
     "name": "stderr",
     "output_type": "stream",
     "text": [
      "neoglia.learn.learner - INFO - Training round: 19, worker: h3, avg_loss: tensor(1.4535, grad_fn=<MeanBackward1>)\n"
     ]
    }
   ],
   "source": [
    "fed_learner.train_eval()"
   ]
  }
 ],
 "metadata": {
  "kernelspec": {
   "display_name": "Python 3",
   "language": "python",
   "name": "python3"
  },
  "language_info": {
   "codemirror_mode": {
    "name": "ipython",
    "version": 3
   },
   "file_extension": ".py",
   "mimetype": "text/x-python",
   "name": "python",
   "nbconvert_exporter": "python",
   "pygments_lexer": "ipython3",
   "version": "3.6.7"
  }
 },
 "nbformat": 4,
 "nbformat_minor": 2
}
