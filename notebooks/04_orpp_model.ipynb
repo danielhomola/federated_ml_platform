{
 "cells": [
  {
   "cell_type": "markdown",
   "metadata": {},
   "source": [
    "# One row per patient model\n",
    "\n",
    "To keep it simple, to start off with we simply model the patients as a single row, i.e. each feature is a scalar or a categorical variable.\n",
    "\n",
    "See `03_mortality_red_dataset` notebook for more info."
   ]
  },
  {
   "cell_type": "code",
   "execution_count": 1,
   "metadata": {},
   "outputs": [],
   "source": [
    "%load_ext autoreload\n",
    "%autoreload 2\n",
    "%matplotlib inline"
   ]
  },
  {
   "cell_type": "markdown",
   "metadata": {},
   "source": [
    "establish connection to DB and define helper function for running queries"
   ]
  },
  {
   "cell_type": "code",
   "execution_count": 2,
   "metadata": {},
   "outputs": [],
   "source": [
    "import pandas as pd\n",
    "from proto.etl.config import SSHInfoEicu, DBInfoEicu\n",
    "from proto.etl.utils import connect_to_db_via_ssh, run_eicu_query, get_column_completeness, load_schema_for_modelling\n",
    "\n",
    "conn = connect_to_db_via_ssh(SSHInfoEicu, DBInfoEicu)\n",
    "cursor = conn.cursor()\n",
    "query_schema = 'set search_path to eicu_crd;'"
   ]
  },
  {
   "cell_type": "markdown",
   "metadata": {},
   "source": [
    "#### Load data, get target variable"
   ]
  },
  {
   "cell_type": "code",
   "execution_count": 3,
   "metadata": {},
   "outputs": [],
   "source": [
    "import numpy as np\n",
    "import pandas as pd\n",
    "import tensorflow as tf\n",
    "from sklearn.model_selection import train_test_split\n",
    "from sklearn.preprocessing import LabelEncoder, RobustScaler, MinMaxScaler\n",
    "\n",
    "from tensorflow.keras.layers import Input, Embedding, Dense, Flatten, Dropout, concatenate, BatchNormalization, SpatialDropout1D\n",
    "from tensorflow.keras.callbacks import Callback\n",
    "from tensorflow.keras.models import Model\n",
    "from tensorflow.keras.optimizers import Adam"
   ]
  },
  {
   "cell_type": "code",
   "execution_count": 87,
   "metadata": {},
   "outputs": [],
   "source": [
    "# load vars\n",
    "df = pd.read_csv('orpp_all.csv').set_index('patientunitstayid')\n",
    "\n",
    "# load targets\n",
    "query = \"\"\"\n",
    "select p.patientunitstayid, i.hosp_mort, icu_los_hours\n",
    "from patient_top5hospitals_mort_dataset p\n",
    "inner join icustay_detail i\n",
    "on p.patientunitstayid=i.patientunitstayid\n",
    "\"\"\"\n",
    "df_y = run_eicu_query(query, conn).set_index('patientunitstayid')\n",
    "\n",
    "# there are 100 missing mortality labels, we impute them with zero\n",
    "#re-order y vars to match the order of X\n",
    "df_y.fillna(0, inplace=True)\n",
    "df_y = df_y.loc[df.index]\n",
    "df_y.to_csv('mort_y.csv')"
   ]
  },
  {
   "cell_type": "markdown",
   "metadata": {},
   "source": [
    "#### Setup encoders for the categorical input vars"
   ]
  },
  {
   "cell_type": "code",
   "execution_count": 88,
   "metadata": {},
   "outputs": [],
   "source": [
    "cat_encoders = {\n",
    "    'ethnicity': LabelEncoder(),\n",
    "    'hospital_region': LabelEncoder(),\n",
    "    'unittype': LabelEncoder(),\n",
    "    'apachedxgroup': LabelEncoder()\n",
    "}\n",
    "for col, label_encoder in cat_encoders.items():\n",
    "    df[col] = label_encoder.fit_transform(df[col])"
   ]
  },
  {
   "cell_type": "markdown",
   "metadata": {},
   "source": [
    "#### Normalise numeric input features"
   ]
  },
  {
   "cell_type": "code",
   "execution_count": 90,
   "metadata": {},
   "outputs": [],
   "source": [
    "cat_vars = [\n",
    "    'ethnicity',\n",
    "    'hospital_region',\n",
    "    'unittype',\n",
    "    'apachedxgroup'\n",
    "]\n",
    "num_cols = list(df.columns[4:].values)\n",
    "\n",
    "# we don't want to scale the embed dims\n",
    "embed_dims = 100\n",
    "num_cols_to_scale = num_cols[:-embed_dims]\n",
    "scaler = RobustScaler(quantile_range=(10.0, 90.0))\n",
    "# scaler = MinMaxScaler()\n",
    "df[num_cols] = scaler.fit_transform(df[num_cols].values)"
   ]
  },
  {
   "cell_type": "markdown",
   "metadata": {},
   "source": [
    "#### Setup training/test data"
   ]
  },
  {
   "cell_type": "code",
   "execution_count": 91,
   "metadata": {},
   "outputs": [],
   "source": [
    "# do train-test split without scikit to keep the data with its col names - see later\n",
    "np.random.seed(42)\n",
    "test_ratio = 0.1\n",
    "train_ix = np.random.rand(len(df)) < 1 - test_ratio\n",
    "\n",
    "# define X and y, then split it into train (90%) and test (10%)\n",
    "X = df.values\n",
    "y = df_y['hosp_mort'].values\n",
    "df_X_train = df[train_ix]\n",
    "y_train = y[train_ix]\n",
    "df_X_test = df[~train_ix]\n",
    "y_test = y[~train_ix]"
   ]
  },
  {
   "cell_type": "code",
   "execution_count": 96,
   "metadata": {},
   "outputs": [],
   "source": [
    "def get_data_dict(df, num_cols):\n",
    "    return {\n",
    "        'ethnicity': np.array(df.ethnicity),\n",
    "        'hospital_region': np.array(df.hospital_region),\n",
    "        'unittype': np.array(df.unittype),\n",
    "        'apachedxgroup': np.array(df.apachedxgroup),\n",
    "        'num_cols': df[num_cols].values\n",
    "    }\n",
    "X_train = get_data_dict(df_X_train, num_cols)\n",
    "X_test = get_data_dict(df_X_test, num_cols)  "
   ]
  },
  {
   "cell_type": "markdown",
   "metadata": {},
   "source": [
    "#### Define basic FFN model and its hyperparams"
   ]
  },
  {
   "cell_type": "code",
   "execution_count": 100,
   "metadata": {},
   "outputs": [],
   "source": [
    "EMBED_SIZE = 5\n",
    "DENSE_SIZE = 1024\n",
    "BATCH_SIZE = 256\n",
    "EPOCHS = 50\n",
    "DROPOUT = 0.5\n",
    "STEPS = int(len(X_train) / BATCH_SIZE) * EPOCHS\n",
    "\n",
    "# set up decaying learning rate for Adam\n",
    "LR_INIT, LR_FIN = 0.001, 0.0001\n",
    "exp_decay = lambda init, fin, steps: (init/fin)**(1/(steps-1)) - 1\n",
    "lr_decay = exp_decay(LR_INIT, LR_FIN, STEPS)\n",
    "optimizer_adam = Adam(lr=0.001, decay=lr_decay, amsgrad=True)"
   ]
  },
  {
   "cell_type": "code",
   "execution_count": 101,
   "metadata": {},
   "outputs": [
    {
     "name": "stdout",
     "output_type": "stream",
     "text": [
      "__________________________________________________________________________________________________\n",
      "Layer (type)                    Output Shape         Param #     Connected to                     \n",
      "==================================================================================================\n",
      "num_cols (InputLayer)           (None, 207)          0                                            \n",
      "__________________________________________________________________________________________________\n",
      "ethnicity (InputLayer)          (None, 1)            0                                            \n",
      "__________________________________________________________________________________________________\n",
      "hospital_region (InputLayer)    (None, 1)            0                                            \n",
      "__________________________________________________________________________________________________\n",
      "unittype (InputLayer)           (None, 1)            0                                            \n",
      "__________________________________________________________________________________________________\n",
      "apachedxgroup (InputLayer)      (None, 1)            0                                            \n",
      "__________________________________________________________________________________________________\n",
      "dense_96 (Dense)                (None, 1024)         212992      num_cols[0][0]                   \n",
      "__________________________________________________________________________________________________\n",
      "embedding_64 (Embedding)        (None, 1, 2)         14          ethnicity[0][0]                  \n",
      "__________________________________________________________________________________________________\n",
      "embedding_65 (Embedding)        (None, 1, 2)         6           hospital_region[0][0]            \n",
      "__________________________________________________________________________________________________\n",
      "embedding_66 (Embedding)        (None, 1, 2)         16          unittype[0][0]                   \n",
      "__________________________________________________________________________________________________\n",
      "embedding_67 (Embedding)        (None, 1, 5)         105         apachedxgroup[0][0]              \n",
      "__________________________________________________________________________________________________\n",
      "dropout_69 (Dropout)            (None, 1024)         0           dense_96[0][0]                   \n",
      "__________________________________________________________________________________________________\n",
      "concatenate_32 (Concatenate)    (None, 1, 11)        0           embedding_64[0][0]               \n",
      "                                                                 embedding_65[0][0]               \n",
      "                                                                 embedding_66[0][0]               \n",
      "                                                                 embedding_67[0][0]               \n",
      "__________________________________________________________________________________________________\n",
      "dense_97 (Dense)                (None, 512)          524800      dropout_69[0][0]                 \n",
      "__________________________________________________________________________________________________\n",
      "flatten_16 (Flatten)            (None, 11)           0           concatenate_32[0][0]             \n",
      "__________________________________________________________________________________________________\n",
      "dropout_70 (Dropout)            (None, 512)          0           dense_97[0][0]                   \n",
      "__________________________________________________________________________________________________\n",
      "concatenate_33 (Concatenate)    (None, 523)          0           flatten_16[0][0]                 \n",
      "                                                                 dropout_70[0][0]                 \n",
      "__________________________________________________________________________________________________\n",
      "dense_98 (Dense)                (None, 256)          134144      concatenate_33[0][0]             \n",
      "__________________________________________________________________________________________________\n",
      "dropout_71 (Dropout)            (None, 256)          0           dense_98[0][0]                   \n",
      "__________________________________________________________________________________________________\n",
      "dense_99 (Dense)                (None, 1)            257         dropout_71[0][0]                 \n",
      "==================================================================================================\n",
      "Total params: 872,334\n",
      "Trainable params: 872,334\n",
      "Non-trainable params: 0\n",
      "__________________________________________________________________________________________________\n"
     ]
    }
   ],
   "source": [
    "# cat features embedded\n",
    "in_et = Input(shape=(1,), name='ethnicity')\n",
    "emb_et = Embedding(cat_encoders['ethnicity'].classes_.shape[0], 2)(in_et)\n",
    "in_hr = Input(shape=(1,), name='hospital_region')\n",
    "emb_hr = Embedding(cat_encoders['hospital_region'].classes_.shape[0], 2)(in_hr)\n",
    "in_ut = Input(shape=(1,), name='unittype')\n",
    "emb_ut = Embedding(cat_encoders['unittype'].classes_.shape[0], 2)(in_ut)\n",
    "in_ag = Input(shape=(1,), name='apachedxgroup')\n",
    "emb_ag = Embedding(cat_encoders['apachedxgroup'].classes_.shape[0], 5)(in_ag)\n",
    "\n",
    "cat_feats = concatenate([emb_et, emb_hr, emb_ut, emb_ag])\n",
    "cat_feats = Flatten()(cat_feats)\n",
    "\n",
    "# num features with 2 layers and dropout\n",
    "in_num = Input(shape=(len(num_cols),), name='num_cols')\n",
    "num_feats = Dense(DENSE_SIZE, activation='relu')(in_num)\n",
    "num_feats = Dropout(DROPOUT)(num_feats)\n",
    "num_feats = Dense(DENSE_SIZE/2, activation='relu')(num_feats)\n",
    "num_feats = Dropout(DROPOUT)(num_feats)\n",
    "\n",
    "# concat cat and num features add final dense layer, output layer and compile model\n",
    "all_feats = concatenate([cat_feats, num_feats])\n",
    "all_feats = Dense(DENSE_SIZE/4, activation='relu')(all_feats)\n",
    "all_feats = Dropout(DROPOUT)(all_feats)\n",
    "\n",
    "out = Dense(1, activation='sigmoid')(all_feats)\n",
    "model = Model(inputs=[in_et, in_hr, in_ut, in_ag, in_num], outputs=[out])\n",
    "model.compile(\n",
    "    loss='binary_crossentropy',\n",
    "    optimizer=optimizer_adam, \n",
    "    metrics=['accuracy']\n",
    ")\n",
    "model.summary()"
   ]
  },
  {
   "cell_type": "markdown",
   "metadata": {},
   "source": [
    "#### Train model"
   ]
  },
  {
   "cell_type": "code",
   "execution_count": 102,
   "metadata": {},
   "outputs": [
    {
     "name": "stdout",
     "output_type": "stream",
     "text": [
      "Epoch 1/50\n",
      " - 1s - loss: 0.3900 - acc: 0.9032\n",
      "Epoch 2/50\n",
      " - 0s - loss: 0.2847 - acc: 0.9505\n",
      "Epoch 3/50\n",
      " - 0s - loss: 0.1620 - acc: 0.9607\n",
      "Epoch 4/50\n",
      " - 0s - loss: 0.1063 - acc: 0.9715\n",
      "Epoch 5/50\n",
      " - 0s - loss: 0.0678 - acc: 0.9708\n",
      "Epoch 6/50\n",
      " - 0s - loss: 0.0498 - acc: 0.9774\n",
      "Epoch 7/50\n",
      " - 0s - loss: 0.0473 - acc: 0.9786\n",
      "Epoch 8/50\n",
      " - 0s - loss: 0.0483 - acc: 0.9754\n",
      "Epoch 9/50\n",
      " - 0s - loss: 0.0468 - acc: 0.9783\n",
      "Epoch 10/50\n",
      " - 0s - loss: 0.0409 - acc: 0.9798\n",
      "Epoch 11/50\n",
      " - 0s - loss: 0.0473 - acc: 0.9776\n",
      "Epoch 12/50\n",
      " - 0s - loss: 0.0398 - acc: 0.9799\n",
      "Epoch 13/50\n",
      " - 0s - loss: 0.0419 - acc: 0.9803\n",
      "Epoch 14/50\n",
      " - 0s - loss: 0.0326 - acc: 0.9855\n",
      "Epoch 15/50\n",
      " - 0s - loss: 0.0346 - acc: 0.9831\n",
      "Epoch 16/50\n",
      " - 0s - loss: 0.0322 - acc: 0.9818\n",
      "Epoch 17/50\n",
      " - 0s - loss: 0.0352 - acc: 0.9825\n",
      "Epoch 18/50\n",
      " - 0s - loss: 0.0305 - acc: 0.9849\n",
      "Epoch 19/50\n",
      " - 0s - loss: 0.0346 - acc: 0.9843\n",
      "Epoch 20/50\n",
      " - 0s - loss: 0.0309 - acc: 0.9858\n",
      "Epoch 21/50\n",
      " - 0s - loss: 0.0287 - acc: 0.9855\n",
      "Epoch 22/50\n",
      " - 0s - loss: 0.0300 - acc: 0.9848\n",
      "Epoch 23/50\n",
      " - 0s - loss: 0.0288 - acc: 0.9863\n",
      "Epoch 24/50\n",
      " - 0s - loss: 0.0292 - acc: 0.9867\n",
      "Epoch 25/50\n",
      " - 0s - loss: 0.0244 - acc: 0.9864\n",
      "Epoch 26/50\n",
      " - 0s - loss: 0.0251 - acc: 0.9872\n",
      "Epoch 27/50\n",
      " - 0s - loss: 0.0303 - acc: 0.9871\n",
      "Epoch 28/50\n",
      " - 0s - loss: 0.0253 - acc: 0.9882\n",
      "Epoch 29/50\n",
      " - 0s - loss: 0.0261 - acc: 0.9857\n",
      "Epoch 30/50\n",
      " - 0s - loss: 0.0271 - acc: 0.9877\n",
      "Epoch 31/50\n",
      " - 0s - loss: 0.0246 - acc: 0.9876\n",
      "Epoch 32/50\n",
      " - 0s - loss: 0.0226 - acc: 0.9891\n",
      "Epoch 33/50\n",
      " - 0s - loss: 0.0202 - acc: 0.9892\n",
      "Epoch 34/50\n",
      " - 0s - loss: 0.0225 - acc: 0.9912\n",
      "Epoch 35/50\n",
      " - 0s - loss: 0.0251 - acc: 0.9876\n",
      "Epoch 36/50\n",
      " - 0s - loss: 0.0213 - acc: 0.9904\n",
      "Epoch 37/50\n",
      " - 0s - loss: 0.0212 - acc: 0.9897\n",
      "Epoch 38/50\n",
      " - 0s - loss: 0.0171 - acc: 0.9910\n",
      "Epoch 39/50\n",
      " - 0s - loss: 0.0171 - acc: 0.9918\n",
      "Epoch 40/50\n",
      " - 0s - loss: 0.0193 - acc: 0.9900\n",
      "Epoch 41/50\n",
      " - 0s - loss: 0.0192 - acc: 0.9907\n",
      "Epoch 42/50\n",
      " - 0s - loss: 0.0179 - acc: 0.9903\n",
      "Epoch 43/50\n",
      " - 0s - loss: 0.0200 - acc: 0.9906\n",
      "Epoch 44/50\n",
      " - 0s - loss: 0.0161 - acc: 0.9915\n",
      "Epoch 45/50\n",
      " - 0s - loss: 0.0175 - acc: 0.9911\n",
      "Epoch 46/50\n",
      " - 0s - loss: 0.0236 - acc: 0.9890\n",
      "Epoch 47/50\n",
      " - 0s - loss: 0.0170 - acc: 0.9916\n",
      "Epoch 48/50\n",
      " - 0s - loss: 0.0170 - acc: 0.9910\n",
      "Epoch 49/50\n",
      " - 0s - loss: 0.0184 - acc: 0.9893\n",
      "Epoch 50/50\n",
      " - 0s - loss: 0.0178 - acc: 0.9907\n"
     ]
    },
    {
     "data": {
      "text/plain": [
       "<tensorflow.python.keras.callbacks.History at 0x7fdf6e5df320>"
      ]
     },
     "execution_count": 102,
     "metadata": {},
     "output_type": "execute_result"
    }
   ],
   "source": [
    "model.fit(\n",
    "    X_train, y_train, \n",
    "    batch_size=BATCH_SIZE, \n",
    "    class_weight={0: 1, 1: 10},\n",
    "    epochs=EPOCHS, \n",
    "    shuffle=True, \n",
    "    verbose=2\n",
    ")"
   ]
  },
  {
   "cell_type": "code",
   "execution_count": 104,
   "metadata": {},
   "outputs": [],
   "source": [
    "preds = model.predict(X_test)"
   ]
  },
  {
   "cell_type": "code",
   "execution_count": 108,
   "metadata": {},
   "outputs": [],
   "source": [
    "import matplotlib.pyplot as plt\n",
    "from sklearn.metrics import roc_curve, auc\n",
    "fpr, tpr, _ = roc_curve(y_test, preds)\n",
    "roc_auc = auc(fpr, tpr)"
   ]
  },
  {
   "cell_type": "code",
   "execution_count": 110,
   "metadata": {},
   "outputs": [
    {
     "data": {
      "image/png": "[encoded data removed]",
      "text/plain": [
       "<Figure size 432x288 with 1 Axes>"
      ]
     },
     "metadata": {
      "needs_background": "light"
     },
     "output_type": "display_data"
    }
   ],
   "source": [
    "plt.figure()\n",
    "lw = 2\n",
    "plt.plot(fpr, tpr, color='darkorange',\n",
    "         lw=lw, label='ROC curve (area = %0.2f)' % roc_auc)\n",
    "plt.plot([0, 1], [0, 1], color='navy', lw=lw, linestyle='--')\n",
    "plt.xlim([0.0, 1.0])\n",
    "plt.ylim([0.0, 1.05])\n",
    "plt.xlabel('False Positive Rate')\n",
    "plt.ylabel('True Positive Rate')\n",
    "plt.title('Receiver operating characteristic example')\n",
    "plt.legend(loc=\"lower right\")\n",
    "plt.show()"
   ]
  }
 ],
 "metadata": {
  "kernelspec": {
   "display_name": "Python 3",
   "language": "python",
   "name": "python3"
  },
  "language_info": {
   "codemirror_mode": {
    "name": "ipython",
    "version": 3
   },
   "file_extension": ".py",
   "mimetype": "text/x-python",
   "name": "python",
   "nbconvert_exporter": "python",
   "pygments_lexer": "ipython3",
   "version": "3.6.7"
  }
 },
 "nbformat": 4,
 "nbformat_minor": 2
}
