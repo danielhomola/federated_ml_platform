{
 "cells": [
  {
   "cell_type": "markdown",
   "metadata": {},
   "source": [
    "# Cohort creation\n",
    "\n",
    "We define the cohorts for mortality prediction and length of stay prediction, based on the first 24 hour of stay of the patients."
   ]
  },
  {
   "cell_type": "code",
   "execution_count": 1,
   "metadata": {},
   "outputs": [],
   "source": [
    "%load_ext autoreload\n",
    "%autoreload 2\n",
    "%matplotlib inline"
   ]
  },
  {
   "cell_type": "markdown",
   "metadata": {},
   "source": [
    "establish connection to DB and define helper function for running queries"
   ]
  },
  {
   "cell_type": "code",
   "execution_count": 2,
   "metadata": {},
   "outputs": [],
   "source": [
    "import pandas as pd\n",
    "from neoglia.etl.config import SSHInfoEicu, DBInfoEicu\n",
    "from neoglia.etl.utils import connect_to_db_via_ssh, run_eicu_query, get_column_completeness, load_schema_for_modelling\n",
    "\n",
    "conn = connect_to_db_via_ssh(SSHInfoEicu, DBInfoEicu)\n",
    "cursor = conn.cursor()\n",
    "query_schema = 'set search_path to eicu_crd;'"
   ]
  },
  {
   "cell_type": "markdown",
   "metadata": {},
   "source": [
    "## Select the patients for mortality prediction\n",
    "\n",
    "1. keep patients that are from the top 5 hospitals\n",
    "2. keep visits that were at least 26 hours long\n",
    "4. save unit stay ids as a new view"
   ]
  },
  {
   "cell_type": "code",
   "execution_count": 3,
   "metadata": {},
   "outputs": [],
   "source": [
    "query = \"\"\"\n",
    "select  patientunitstayid, hospitalid, hosp_mort, region from icustay_detail\n",
    "where hospitalid in (\n",
    "    select distinct hospitalid  from patient_top5hospitals\n",
    "    )\n",
    "    and\n",
    "    icu_los_hours >= 26\n",
    "\"\"\"\n",
    "df_patients = run_eicu_query(query, conn)"
   ]
  },
  {
   "cell_type": "markdown",
   "metadata": {},
   "source": [
    "- We got 16.5k admissions in the largest 5 hospitals that fulfill this criteria. \n",
    "- The class inbalance seems to be roughly 1:10 in each."
   ]
  },
  {
   "cell_type": "code",
   "execution_count": 4,
   "metadata": {},
   "outputs": [
    {
     "data": {
      "text/plain": [
       "(16567, 4)"
      ]
     },
     "execution_count": 4,
     "metadata": {},
     "output_type": "execute_result"
    }
   ],
   "source": [
    "df_patients.shape"
   ]
  },
  {
   "cell_type": "code",
   "execution_count": 5,
   "metadata": {},
   "outputs": [
    {
     "data": {
      "text/plain": [
       "hospitalid  hosp_mort\n",
       "73          0.0          4404\n",
       "            1.0           373\n",
       "167         0.0          2103\n",
       "            1.0           243\n",
       "176         0.0          1637\n",
       "            1.0           122\n",
       "264         0.0          3587\n",
       "            1.0           358\n",
       "420         0.0          3161\n",
       "            1.0           469\n",
       "Name: patientunitstayid, dtype: int64"
      ]
     },
     "execution_count": 5,
     "metadata": {},
     "output_type": "execute_result"
    }
   ],
   "source": [
    "df_patients.groupby(['hospitalid', 'hosp_mort'])['patientunitstayid'].count()"
   ]
  },
  {
   "cell_type": "markdown",
   "metadata": {},
   "source": [
    "The hospitals themselves are from different parts of the US"
   ]
  },
  {
   "cell_type": "code",
   "execution_count": 47,
   "metadata": {},
   "outputs": [
    {
     "data": {
      "text/plain": [
       "hospitalid\n",
       "73       Midwest\n",
       "167         West\n",
       "176         None\n",
       "264      Midwest\n",
       "420    Northeast\n",
       "Name: region, dtype: object"
      ]
     },
     "execution_count": 47,
     "metadata": {},
     "output_type": "execute_result"
    }
   ],
   "source": [
    "df_patients.groupby('hospitalid').first()['region']"
   ]
  },
  {
   "cell_type": "markdown",
   "metadata": {},
   "source": [
    "Save these patients as a new view by executing `patient_top5hospitals_mort_dataset.sql`. "
   ]
  },
  {
   "cell_type": "markdown",
   "metadata": {},
   "source": [
    "# Feature creation\n",
    "\n",
    "We want to be able to predict after 24 hour stay and at least 4 hours look forward if someone dies in a hospital.\n",
    "\n",
    "1. get rid off everything that happened after the 24 hour for the cohort.\n",
    "2. Create one liner features, i.e. which can be represented as a single row per patient.\n",
    "    - gender,\n",
    "    - age,\n",
    "    - ethnicity,\n",
    "    - height,\n",
    "    - weight on admission\n",
    "    - hospital region - embedded - 2\n",
    "    - hospital unittype - embed - 2\n",
    "    - apache_groups - embedded - 3\n",
    "    - apacheapsvars - [imputed](https://scikit-learn.org/stable/modules/generated/sklearn.impute.IterativeImputer.html)\n",
    "    - apachepredvars - imputed (same as above)\n",
    "    - labsfirstday - imputed\n",
    "    - diagnoses - embedded and averaged\n",
    "3. Create time bucketed features. Here we deal with missing values by carrying forward the previous measurement, or in case of the first measurement, carrying that all the way back to the admission time.\n",
    "    - pivoted_lab - bucketed to 24 hours\n",
    "    - pivoted_bg - bucketed to 24 hours\n",
    "    - pivoted_med - bucketed to 24 hours\n",
    "    - pivotted_o2 - bucketed to 24 hours\n",
    "    - pivotted_score - bucketed to 24 hours\n",
    "    - pivotted_uo - bucketed to 24 hours\n",
    "    - pivotted_vital - bucketed to 24 hours\n",
    "    - pivotted_vital_other - bucketed to 24 hours"
   ]
  },
  {
   "cell_type": "code",
   "execution_count": 232,
   "metadata": {},
   "outputs": [],
   "source": [
    "def get_table_completeness(table):\n",
    "    \"\"\"\n",
    "    Quick helper that return column completeness for a table. \n",
    "    Note, it join on patients we're interested in for mortality\n",
    "    pred and restricts for the first 24 hours.\n",
    "    \"\"\"\n",
    "    \n",
    "    query = \"\"\"\n",
    "    select * from %s l \n",
    "    join patient_top5hospitals_mort_dataset p \n",
    "    on l.patientunitstayid=p.patientunitstayid \n",
    "    where chartoffset < 1440\n",
    "    \"\"\" % table\n",
    "    df = run_eicu_query(query, conn)\n",
    "    return (1-df.isnull().sum(axis=0)/df.shape[0])*100"
   ]
  },
  {
   "cell_type": "code",
   "execution_count": 34,
   "metadata": {},
   "outputs": [
    {
     "data": {
      "text/plain": [
       "patientunitstayid    100.000000\n",
       "chartoffset          100.000000\n",
       "entryoffset          100.000000\n",
       "o2_flow               41.555433\n",
       "o2_device             70.856865\n",
       "etco2                  1.263903\n",
       "patientunitstayid    100.000000\n",
       "hosp_mort             99.665268\n",
       "dtype: float64"
      ]
     },
     "execution_count": 34,
     "metadata": {},
     "output_type": "execute_result"
    }
   ],
   "source": [
    "get_table_completeness('pivoted_o2')"
   ]
  },
  {
   "cell_type": "markdown",
   "metadata": {},
   "source": [
    "## Create one row per patient features\n",
    "\n",
    "Start with the basic stay level variables"
   ]
  },
  {
   "cell_type": "code",
   "execution_count": 3,
   "metadata": {},
   "outputs": [],
   "source": [
    "import numpy as np\n",
    "from sklearn.impute import SimpleImputer\n",
    "from sklearn.experimental import enable_iterative_imputer \n",
    "from sklearn.impute import IterativeImputer"
   ]
  },
  {
   "cell_type": "code",
   "execution_count": 62,
   "metadata": {},
   "outputs": [],
   "source": [
    "query = \"\"\"\n",
    "select\n",
    "       i.patientunitstayid,\n",
    "       admissionheight,\n",
    "       admissionweight,\n",
    "       ethnicity,\n",
    "       region as hospital_region,\n",
    "       unittype,\n",
    "       apachedxgroup\n",
    "from (select patientunitstayid from patient_top5hospitals_mort_dataset) p\n",
    "join icustay_detail i\n",
    "on p.patientunitstayid=i.patientunitstayid\n",
    "join apache_groups ag\n",
    "on p.patientunitstayid=ag.patientunitstayid\n",
    "\"\"\"\n",
    "df_basic = run_eicu_query(query, conn)"
   ]
  },
  {
   "cell_type": "code",
   "execution_count": 63,
   "metadata": {},
   "outputs": [],
   "source": [
    "# add vars to numerical and non-numerical lists\n",
    "num_vars = [\n",
    "    'admissionheight',\n",
    "    'admissionweight',\n",
    "]\n",
    "cat_vars = [\n",
    "    'ethnicity',\n",
    "    'hospital_region',\n",
    "    'unittype',\n",
    "    'apachedxgroup'\n",
    "]"
   ]
  },
  {
   "cell_type": "markdown",
   "metadata": {},
   "source": [
    "### Now add the more numerous apache and lab vars"
   ]
  },
  {
   "cell_type": "code",
   "execution_count": 64,
   "metadata": {},
   "outputs": [],
   "source": [
    "query = \"\"\"\n",
    "select *\n",
    "from (select patientunitstayid from patient_top5hospitals_mort_dataset) p\n",
    "left join apacheapsvar a1\n",
    "on p.patientunitstayid=a1.patientunitstayid\n",
    "left join apachepredvar a2\n",
    "on p.patientunitstayid=a2.patientunitstayid\n",
    "left join labsfirstday l\n",
    "on p.patientunitstayid=l.patientunitstayid\n",
    "\"\"\"\n",
    "df_apache_labs = run_eicu_query(query, conn)\n",
    "# get rid off duplicated unitstayid cols\n",
    "df_apache_labs = df_apache_labs.loc[:,~df_apache_labs.columns.duplicated()]"
   ]
  },
  {
   "cell_type": "code",
   "execution_count": 65,
   "metadata": {},
   "outputs": [],
   "source": [
    "# add numeric cols to the num vars\n",
    "float_cols = df_apache_labs.dtypes == 'float64'\n",
    "non_id_cols = ~df_apache_labs.columns.str.endswith('id')\n",
    "num_vars += list(df_apache_labs.columns[(float_cols & non_id_cols).ravel()].values)"
   ]
  },
  {
   "cell_type": "markdown",
   "metadata": {},
   "source": [
    "Merge apache_lab and basic tables"
   ]
  },
  {
   "cell_type": "code",
   "execution_count": 66,
   "metadata": {},
   "outputs": [],
   "source": [
    "df_basic_apache_labs = df_basic.set_index('patientunitstayid').join(df_apache_labs.set_index('patientunitstayid'))"
   ]
  },
  {
   "cell_type": "markdown",
   "metadata": {},
   "source": [
    "#### Impute missing values \n",
    "Both for categorical vars (simple mode), and numerical vars (multivariate imputation)"
   ]
  },
  {
   "cell_type": "code",
   "execution_count": 75,
   "metadata": {},
   "outputs": [],
   "source": [
    "df = df_basic_apache_labs\n",
    "\n",
    "# make age numerical by replacing > 89 with 90\n",
    "df.age[df.age.isnull()] = 90\n",
    "df.age = df.age.astype(np.int)\n",
    "\n",
    "# Impute categorical missing data in the simples way\n",
    "imp = SimpleImputer(strategy=\"most_frequent\")\n",
    "df[cat_vars] = imp.fit_transform(df[cat_vars].astype('category'))"
   ]
  },
  {
   "cell_type": "code",
   "execution_count": 76,
   "metadata": {},
   "outputs": [],
   "source": [
    "# Impute missing values for numerical variables too using iterative imputer\n",
    "imp = IterativeImputer()\n",
    "df[num_vars] = imp.fit_transform(df[num_vars].values)"
   ]
  },
  {
   "cell_type": "code",
   "execution_count": 84,
   "metadata": {},
   "outputs": [],
   "source": [
    "# Save features so far\n",
    "df[cat_vars + num_vars].to_csv('orpp_apache_lab_vars.csv')"
   ]
  },
  {
   "cell_type": "markdown",
   "metadata": {},
   "source": [
    "### Add diagnosis features\n",
    "\n",
    "Preprocess embeddings"
   ]
  },
  {
   "cell_type": "code",
   "execution_count": 128,
   "metadata": {},
   "outputs": [],
   "source": [
    "from pathlib import Path\n",
    "w2v_dir = Path('/home/danielhomola/Work/pa/pa_data/data')\n",
    "embedding = w2v_dir / 'epi_dl_poc_vecs_w2v_icd_vs100_np600_mi10_lr05.csv'"
   ]
  },
  {
   "cell_type": "code",
   "execution_count": 204,
   "metadata": {},
   "outputs": [],
   "source": [
    "# load embedding\n",
    "df_emb = pd.read_csv(embedding, index_col=0)\n",
    "# turn string vector into numerical vector\n",
    "df_emb.insert(2, 'vector_num', df_emb.vector.apply(lambda x: [float(n) for n in x[1:-1].split(',')]))"
   ]
  },
  {
   "cell_type": "code",
   "execution_count": 205,
   "metadata": {},
   "outputs": [],
   "source": [
    "# filter out icd 9 and 10s - get rid off string vector col\n",
    "df_icd9 = df_emb[df_emb.word.str.startswith('d_1')][['word', 'vector_num']]\n",
    "df_icd10 = df_emb[df_emb.word.str.startswith('d_2')][['word', 'vector_num']]\n",
    "\n",
    "# delete d_1 and d_2 prefixes \n",
    "df_icd9.word = df_icd9.word.str.replace('d_1_', '')\n",
    "df_icd10.word = df_icd10.word.str.replace('d_2_', '')\n",
    "\n",
    "# some of the rare codes never converged during training and have huge norms.. let's discard them\n",
    "def delete_large_vecs(df, thresh=1e27):\n",
    "    df_filtered = df[df.vector_num.apply(np.linalg.norm) <= thresh]\n",
    "    filtered_out = df[df.vector_num.apply(np.linalg.norm) > thresh].word\n",
    "    return df_filtered, filtered_out\n",
    "\n",
    "# make sure that we have the codes in the right format\n",
    "df_icd9.word = df_icd9.word.str.replace('.', '').str.upper()\n",
    "df_icd10.word = df_icd10.word.str.replace('.', '').str.upper()\n",
    "\n",
    "# blow up the vector_num column into a 100 pandas columns so we can easily calculate the mean across them\n",
    "emb_dim = 100\n",
    "emb_cols = [\"d%d\" % x for x in range(emb_dim)]\n",
    "df_icd9[emb_cols] = pd.DataFrame(df_icd9.vector_num.values.tolist(), index=df_icd9.index)\n",
    "df_icd10[emb_cols] = pd.DataFrame(df_icd10.vector_num.values.tolist(), index=df_icd10.index)"
   ]
  },
  {
   "cell_type": "markdown",
   "metadata": {},
   "source": [
    "If we want to filter out vectors whose norm is too big (i.e. that presumably didn't converge during the training) use this"
   ]
  },
  {
   "cell_type": "code",
   "execution_count": 202,
   "metadata": {},
   "outputs": [],
   "source": [
    "# print('Prefiltered icd9: ', df_icd9.shape[0])\n",
    "# df_icd9, filtered_out_icd9 = delete_large_vecs(df_icd9)\n",
    "# print('Filtered icd9: ', df_icd9.shape[0])\n",
    "# print('Prefiltered icd10: ', df_icd10.shape[0])\n",
    "# df_icd10, filtered_out_icd10 = delete_large_vecs(df_icd10)\n",
    "# print('Filtered icd10: ', df_icd10.shape[0])\n",
    "\n",
    "# Use this to check the pre-filtering dist\n",
    "# df_icd10.vector_num.apply(np.linalg.norm).hist(bins=50)"
   ]
  },
  {
   "cell_type": "markdown",
   "metadata": {},
   "source": [
    "#### Get diagnosis vecs for patients\n",
    "\n",
    "For each patient, take out the diag codes from the first 24 hours. \n",
    "- If we more than one code per visit we average them. "
   ]
  },
  {
   "cell_type": "code",
   "execution_count": 207,
   "metadata": {},
   "outputs": [],
   "source": [
    "query = \"\"\"\n",
    "select d.patientunitstayid, icd9code\n",
    "from patient_top5hospitals_mort_dataset p\n",
    "inner join diagnosis d\n",
    "on p.patientunitstayid=d.patientunitstayid\n",
    "where diagnosisoffset <= 1440 and icd9code notnull and icd9code != ''\n",
    "\"\"\"\n",
    "df_diag = run_eicu_query(query, conn)"
   ]
  },
  {
   "cell_type": "code",
   "execution_count": 208,
   "metadata": {},
   "outputs": [
    {
     "data": {
      "text/plain": [
       "(146303, 2)"
      ]
     },
     "execution_count": 208,
     "metadata": {},
     "output_type": "execute_result"
    }
   ],
   "source": [
    "# on average we get 9 diags per patient\n",
    "df_diag.shape"
   ]
  },
  {
   "cell_type": "code",
   "execution_count": 209,
   "metadata": {},
   "outputs": [
    {
     "data": {
      "text/plain": [
       "array([[<matplotlib.axes._subplots.AxesSubplot object at 0x7f927c37ef60>]],\n",
       "      dtype=object)"
      ]
     },
     "execution_count": 209,
     "metadata": {},
     "output_type": "execute_result"
    },
    {
     "data": {
      "image/png": "[encoded data removed]",
      "text/plain": [
       "<Figure size 432x288 with 1 Axes>"
      ]
     },
     "metadata": {
      "needs_background": "light"
     },
     "output_type": "display_data"
    }
   ],
   "source": [
    "# check distribution of number of diags in the first 24 hours\n",
    "df_diag.groupby('patientunitstayid').count().hist(bins=25)"
   ]
  },
  {
   "cell_type": "markdown",
   "metadata": {},
   "source": [
    "#### Process ICD codes from ICU table\n",
    "\n",
    "- Replace dots in ICD codes and capitalize codes, them up into two cols (ICD9 first, ICD10 second)\n",
    "- Only keep the first 4 characters\n",
    "- In roughly 2.5% of cases there are more than two codes. We'll treat these the same and ignore the remaining ones for simplicity's sake.\n"
   ]
  },
  {
   "cell_type": "code",
   "execution_count": 210,
   "metadata": {},
   "outputs": [],
   "source": [
    "df_icu_icd9_10 = df_diag.icd9code\\\n",
    "    .str.replace('.', '')\\\n",
    "    .str.upper()\\\n",
    "    .str.split(',', expand=True)\\\n",
    "    .iloc[:, :2]\\\n",
    "    .apply(lambda x: x.str.strip().str.slice(0, 4))\n",
    "\n",
    "df_icu_icd9_10.columns = ['icd9', 'icd10']\n",
    "df_diag = pd.concat([df_diag, df_icu_icd9_10], axis=1)"
   ]
  },
  {
   "cell_type": "markdown",
   "metadata": {},
   "source": [
    "#### Further process embedding vectors\n",
    "\n",
    "After a lot of investigation, I found that from the 1400 ICD9 and ICD10 codes for these patients we only find about 250 in our embeddigs. So we quite aggressively we trim all codes longer than 4 chars to length of four, which brings up the matches to 600 out of 1200 unique codes. \n",
    "\n",
    "To make this work, in the embeddings we average all vectors that have the same four letter code. Note, this is sensible as ICD codes are hierarchical, each digit/letter going deeper in terms of granularity."
   ]
  },
  {
   "cell_type": "code",
   "execution_count": 211,
   "metadata": {},
   "outputs": [],
   "source": [
    "# shorten all embeddings to 4 chars too and average the corresponding embeddings\n",
    "df_icd9_4 = df_icd9.copy()\n",
    "df_icd10_4 = df_icd10.copy()\n",
    "df_icd9_4.word = df_icd9_4.word.str.slice(0, 4)\n",
    "df_icd10_4.word = df_icd10_4.word.str.slice(0, 4)\n",
    "df_icd9_4.set_index('word', inplace=True)\n",
    "df_icd10_4.set_index('word', inplace=True)"
   ]
  },
  {
   "cell_type": "markdown",
   "metadata": {},
   "source": [
    "#### Check how many of the ICD codes we've got embedding for\n",
    "\n",
    "Ok now we have pretty good coverage and the only ones we miss are 3 letter ICDs as we ignored these in our embeddings."
   ]
  },
  {
   "cell_type": "code",
   "execution_count": 212,
   "metadata": {},
   "outputs": [
    {
     "name": "stdout",
     "output_type": "stream",
     "text": [
      "total ICU icds:  1178\n",
      "ICU icds we have embeddings for:  1117\n"
     ]
    }
   ],
   "source": [
    "emb_icd9 = set(df_icd9_4.index.values)\n",
    "emb_icd10 = set(df_icd10_4.index.values)\n",
    "icu_icd9 = set(df_diag.icd9.values)\n",
    "icu_icd10 = set(df_diag.icd10.values)\n",
    "\n",
    "emb_icds = emb_icd9.union(emb_icd10)\n",
    "icu_icds = icu_icd9.union(icu_icd10)\n",
    "print('total ICU icds: ', len(icu_icds))\n",
    "print('ICU icds we have embeddings for: ', len(emb_icds.intersection(icu_icds)))"
   ]
  },
  {
   "cell_type": "markdown",
   "metadata": {},
   "source": [
    "#### Map icds in ICU stay to embedding vectors and average them across a single stay"
   ]
  },
  {
   "cell_type": "code",
   "execution_count": 213,
   "metadata": {},
   "outputs": [],
   "source": [
    "df_icd9_mapped = df_diag.set_index('icd9').join(df_icd9_4, how='inner')\n",
    "df_icd10_mapped = df_diag.set_index('icd10').join(df_icd10_4, how='inner')"
   ]
  },
  {
   "cell_type": "code",
   "execution_count": 217,
   "metadata": {},
   "outputs": [],
   "source": [
    "# merge mapped icd9 and icd10 tables\n",
    "df_diag_mapped = pd.concat([df_icd9_mapped, df_icd10_mapped])\n",
    "df_diag_mapped.index = df_diag_mapped.index.set_names(['code'])\n",
    "df_diag_mapped.reset_index(inplace=True)"
   ]
  },
  {
   "cell_type": "code",
   "execution_count": 220,
   "metadata": {},
   "outputs": [],
   "source": [
    "df_diag_avg = df_diag_mapped.groupby('patientunitstayid')[emb_cols].mean()\n",
    "df_diag_avg.to_csv('orpp_avg_diag.csv')"
   ]
  },
  {
   "cell_type": "markdown",
   "metadata": {},
   "source": [
    "#### Load the other features and add these columns"
   ]
  },
  {
   "cell_type": "code",
   "execution_count": 228,
   "metadata": {},
   "outputs": [],
   "source": [
    "df = pd.read_csv('orpp_apache_lab_vars.csv')\n",
    "df = df.set_index('patientunitstayid').join(df_diag_avg, how='left').fillna(0)"
   ]
  },
  {
   "cell_type": "code",
   "execution_count": 230,
   "metadata": {},
   "outputs": [],
   "source": [
    "df.to_csv('orpp_all.csv')"
   ]
  },
  {
   "cell_type": "markdown",
   "metadata": {},
   "source": [
    "## Create time bucketed featers\n",
    "\n",
    "Here we deal with missing values by carrying forward the previous measurement, or in case of the first measurement, carrying that all the way back to the admission time.\n",
    "    - pivoted_lab - bucketed to 24 hours\n",
    "    - pivoted_bg - bucketed to 24 hours\n",
    "    - pivoted_med - bucketed to 24 hours\n",
    "    - pivotted_o2 - bucketed to 24 hours\n",
    "    - pivotted_score - bucketed to 24 hours\n",
    "    - pivotted_uo - bucketed to 24 hours\n",
    "    - pivotted_vital - bucketed to 24 hours\n",
    "    - pivotted_vital_other - bucketed to 24 hours"
   ]
  }
 ],
 "metadata": {
  "kernelspec": {
   "display_name": "Python 3",
   "language": "python",
   "name": "python3"
  },
  "language_info": {
   "codemirror_mode": {
    "name": "ipython",
    "version": 3
   },
   "file_extension": ".py",
   "mimetype": "text/x-python",
   "name": "python",
   "nbconvert_exporter": "python",
   "pygments_lexer": "ipython3",
   "version": "3.6.7"
  }
 },
 "nbformat": 4,
 "nbformat_minor": 2
}
