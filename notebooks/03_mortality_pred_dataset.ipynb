{
 "cells": [
  {
   "cell_type": "markdown",
   "metadata": {},
   "source": [
    "# Cohort creation\n",
    "\n",
    "We define the cohorts for mortality prediction and length of stay prediction, based on the first 24 hour of stay of the patients."
   ]
  },
  {
   "cell_type": "code",
   "execution_count": 1,
   "metadata": {},
   "outputs": [],
   "source": [
    "%load_ext autoreload\n",
    "%autoreload 2\n",
    "%matplotlib inline"
   ]
  },
  {
   "cell_type": "markdown",
   "metadata": {},
   "source": [
    "establish connection to DB and define helper function for running queries"
   ]
  },
  {
   "cell_type": "code",
   "execution_count": 2,
   "metadata": {},
   "outputs": [],
   "source": [
    "import pandas as pd\n",
    "from proto.etl.config import SSHInfoEicu, DBInfoEicu\n",
    "from proto.etl.utils import connect_to_db_via_ssh, run_eicu_query, get_column_completeness, load_schema_for_modelling\n",
    "\n",
    "conn = connect_to_db_via_ssh(SSHInfoEicu, DBInfoEicu)\n",
    "cursor = conn.cursor()\n",
    "query_schema = 'set search_path to eicu_crd;'"
   ]
  },
  {
   "cell_type": "markdown",
   "metadata": {},
   "source": [
    "### Select the patients for mortality prediction\n",
    "\n",
    "1. keep patients that are from the top 5 hospitals\n",
    "2. keep visits that were at least 26 hours long\n",
    "4. save unit stay ids as a new view"
   ]
  },
  {
   "cell_type": "code",
   "execution_count": 3,
   "metadata": {},
   "outputs": [],
   "source": [
    "query = \"\"\"\n",
    "select  patientunitstayid, hospitalid, hosp_mort, region from icustay_detail\n",
    "where hospitalid in (\n",
    "    select distinct hospitalid  from patient_top5hospitals\n",
    "    )\n",
    "    and\n",
    "    icu_los_hours >= 26\n",
    "\"\"\"\n",
    "df_patients = run_eicu_query(query, conn)"
   ]
  },
  {
   "cell_type": "markdown",
   "metadata": {},
   "source": [
    "- We got 16.5k admissions in the largest 5 hospitals that fulfill this criteria. \n",
    "- The class inbalance seems to be roughly 1:10 in each."
   ]
  },
  {
   "cell_type": "code",
   "execution_count": 4,
   "metadata": {},
   "outputs": [
    {
     "data": {
      "text/plain": [
       "(16567, 4)"
      ]
     },
     "execution_count": 4,
     "metadata": {},
     "output_type": "execute_result"
    }
   ],
   "source": [
    "df_patients.shape"
   ]
  },
  {
   "cell_type": "code",
   "execution_count": 5,
   "metadata": {},
   "outputs": [
    {
     "data": {
      "text/plain": [
       "hospitalid  hosp_mort\n",
       "73          0.0          4404\n",
       "            1.0           373\n",
       "167         0.0          2103\n",
       "            1.0           243\n",
       "176         0.0          1637\n",
       "            1.0           122\n",
       "264         0.0          3587\n",
       "            1.0           358\n",
       "420         0.0          3161\n",
       "            1.0           469\n",
       "Name: patientunitstayid, dtype: int64"
      ]
     },
     "execution_count": 5,
     "metadata": {},
     "output_type": "execute_result"
    }
   ],
   "source": [
    "df_patients.groupby(['hospitalid', 'hosp_mort'])['patientunitstayid'].count()"
   ]
  },
  {
   "cell_type": "markdown",
   "metadata": {},
   "source": [
    "The hospitals themselves are from different parts of the US"
   ]
  },
  {
   "cell_type": "code",
   "execution_count": 47,
   "metadata": {},
   "outputs": [
    {
     "data": {
      "text/plain": [
       "hospitalid\n",
       "73       Midwest\n",
       "167         West\n",
       "176         None\n",
       "264      Midwest\n",
       "420    Northeast\n",
       "Name: region, dtype: object"
      ]
     },
     "execution_count": 47,
     "metadata": {},
     "output_type": "execute_result"
    }
   ],
   "source": [
    "df_patients.groupby('hospitalid').first()['region']"
   ]
  },
  {
   "cell_type": "markdown",
   "metadata": {},
   "source": [
    "Save these patients as a new view by executing `patient_top5hospitals_mort_dataset.sql`. "
   ]
  },
  {
   "cell_type": "markdown",
   "metadata": {},
   "source": [
    "## Feature creation\n",
    "\n",
    "We want to be able to predict after 24 hour stay and at least 4 hours look forward if someone dies in a hospital.\n",
    "\n",
    "1. get rid off everything that happened after the 24 hour for the cohort.\n",
    "2. Create one liner features, i.e. which can be represented as a single row per patient.\n",
    "    - gender,\n",
    "    - age,\n",
    "    - region - embedded - 2\n",
    "    - apache_groups - embedded - 3\n",
    "    - apacheapsvars - [imputed](https://scikit-learn.org/stable/modules/generated/sklearn.impute.IterativeImputer.html)\n",
    "    - apachepredvars - imputed (same as above)\n",
    "    - labsfirstday - imputed\n",
    "    - diagnoses - embedded and averaged\n",
    "3. Create time bucketed features. Here we deal with missing values by carrying forward the previous measurement, or in case of the first measurement, carrying that all the way back to the admission time.\n",
    "    - pivoted_lab - bucketed to 24 hours\n",
    "    - pivoted_bg - bucketed to 24 hours\n",
    "    - pivoted_med - bucketed to 24 hours\n",
    "    - pivotted_o2 - bucketed to 24 hours\n",
    "    - pivotted_score - bucketed to 24 hours\n",
    "    - pivotted_uo - bucketed to 24 hours\n",
    "    - pivotted_vital - bucketed to 24 hours\n",
    "    - pivotted_vital_other - bucketed to 24 hours"
   ]
  },
  {
   "cell_type": "code",
   "execution_count": 37,
   "metadata": {},
   "outputs": [],
   "source": [
    "def get_table_completeness(table):\n",
    "    \"\"\"\n",
    "    Quick helper that return column completeness for a table. \n",
    "    Note, it join on patients we're interested in for mortality\n",
    "    pred and restricts for the first 24 hours.\n",
    "    \"\"\"\n",
    "    \n",
    "    query = \"\"\"\n",
    "    select * from %s l \n",
    "    join patient_top5hospitals_mort_dataset p \n",
    "    on l.patientunitstayid=p.patientunitstayid \n",
    "    where chartoffset < 1440\n",
    "    \"\"\" % table\n",
    "    df = run_eicu_query(query, conn)\n",
    "    return (1-df.isnull().sum(axis=0)/df.shape[0])*100"
   ]
  },
  {
   "cell_type": "code",
   "execution_count": 34,
   "metadata": {},
   "outputs": [
    {
     "data": {
      "text/plain": [
       "patientunitstayid    100.000000\n",
       "chartoffset          100.000000\n",
       "entryoffset          100.000000\n",
       "o2_flow               41.555433\n",
       "o2_device             70.856865\n",
       "etco2                  1.263903\n",
       "patientunitstayid    100.000000\n",
       "hosp_mort             99.665268\n",
       "dtype: float64"
      ]
     },
     "execution_count": 34,
     "metadata": {},
     "output_type": "execute_result"
    }
   ],
   "source": [
    "get_table_completeness('pivoted_o2')"
   ]
  }
 ],
 "metadata": {
  "kernelspec": {
   "display_name": "Python 3",
   "language": "python",
   "name": "python3"
  },
  "language_info": {
   "codemirror_mode": {
    "name": "ipython",
    "version": 3
   },
   "file_extension": ".py",
   "mimetype": "text/x-python",
   "name": "python",
   "nbconvert_exporter": "python",
   "pygments_lexer": "ipython3",
   "version": "3.6.7"
  }
 },
 "nbformat": 4,
 "nbformat_minor": 2
}
