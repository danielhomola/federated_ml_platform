{
 "cells": [
  {
   "cell_type": "markdown",
   "metadata": {},
   "source": [
    "# Cohort creation\n",
    "\n",
    "We define the cohorts for mortality prediction and length of stay prediction, based on the first 24 hour of stay of the patients."
   ]
  },
  {
   "cell_type": "code",
   "execution_count": 4,
   "metadata": {},
   "outputs": [
    {
     "name": "stdout",
     "output_type": "stream",
     "text": [
      "The autoreload extension is already loaded. To reload it, use:\n",
      "  %reload_ext autoreload\n"
     ]
    }
   ],
   "source": [
    "%load_ext autoreload\n",
    "%autoreload 2\n",
    "%matplotlib inline"
   ]
  },
  {
   "cell_type": "markdown",
   "metadata": {},
   "source": [
    "establish connection to DB and define helper function for running queries"
   ]
  },
  {
   "cell_type": "code",
   "execution_count": 5,
   "metadata": {},
   "outputs": [],
   "source": [
    "import pandas as pd\n",
    "from proto.etl.config import SSHInfoEicu, DBInfoEicu\n",
    "from proto.etl.utils import connect_to_db_via_ssh, run_eicu_query, get_column_completeness, load_schema_for_modelling\n",
    "\n",
    "conn = connect_to_db_via_ssh(SSHInfoEicu, DBInfoEicu)\n",
    "cursor = conn.cursor()\n",
    "query_schema = 'set search_path to eicu_crd;'"
   ]
  },
  {
   "cell_type": "markdown",
   "metadata": {},
   "source": [
    "### Select the patients for mortality prediction\n",
    "\n",
    "1. keep patients that are from the top 5 hospitals\n",
    "2. keep visits that were at least 26 hours long\n",
    "4. save unit stay ids as a new view"
   ]
  },
  {
   "cell_type": "code",
   "execution_count": 3,
   "metadata": {},
   "outputs": [],
   "source": [
    "query = \"\"\"\n",
    "select  patientunitstayid, hospitalid, hosp_mort, region from icustay_detail\n",
    "where hospitalid in (\n",
    "    select distinct hospitalid  from patient_top5hospitals\n",
    "    )\n",
    "    and\n",
    "    icu_los_hours >= 26\n",
    "\"\"\"\n",
    "df_patients = run_eicu_query(query, conn)"
   ]
  },
  {
   "cell_type": "markdown",
   "metadata": {},
   "source": [
    "- We got 16.5k admissions in the largest 5 hospitals that fulfill this criteria. \n",
    "- The class inbalance seems to be roughly 1:10 in each."
   ]
  },
  {
   "cell_type": "code",
   "execution_count": 4,
   "metadata": {},
   "outputs": [
    {
     "data": {
      "text/plain": [
       "(16567, 4)"
      ]
     },
     "execution_count": 4,
     "metadata": {},
     "output_type": "execute_result"
    }
   ],
   "source": [
    "df_patients.shape"
   ]
  },
  {
   "cell_type": "code",
   "execution_count": 5,
   "metadata": {},
   "outputs": [
    {
     "data": {
      "text/plain": [
       "hospitalid  hosp_mort\n",
       "73          0.0          4404\n",
       "            1.0           373\n",
       "167         0.0          2103\n",
       "            1.0           243\n",
       "176         0.0          1637\n",
       "            1.0           122\n",
       "264         0.0          3587\n",
       "            1.0           358\n",
       "420         0.0          3161\n",
       "            1.0           469\n",
       "Name: patientunitstayid, dtype: int64"
      ]
     },
     "execution_count": 5,
     "metadata": {},
     "output_type": "execute_result"
    }
   ],
   "source": [
    "df_patients.groupby(['hospitalid', 'hosp_mort'])['patientunitstayid'].count()"
   ]
  },
  {
   "cell_type": "markdown",
   "metadata": {},
   "source": [
    "The hospitals themselves are from different parts of the US"
   ]
  },
  {
   "cell_type": "code",
   "execution_count": 47,
   "metadata": {},
   "outputs": [
    {
     "data": {
      "text/plain": [
       "hospitalid\n",
       "73       Midwest\n",
       "167         West\n",
       "176         None\n",
       "264      Midwest\n",
       "420    Northeast\n",
       "Name: region, dtype: object"
      ]
     },
     "execution_count": 47,
     "metadata": {},
     "output_type": "execute_result"
    }
   ],
   "source": [
    "df_patients.groupby('hospitalid').first()['region']"
   ]
  },
  {
   "cell_type": "markdown",
   "metadata": {},
   "source": [
    "Save these patients as a new view by executing `patient_top5hospitals_mort_dataset.sql`. "
   ]
  },
  {
   "cell_type": "markdown",
   "metadata": {},
   "source": [
    "## Feature creation\n",
    "\n",
    "We want to be able to predict after 24 hour stay and at least 4 hours look forward if someone dies in a hospital.\n",
    "\n",
    "1. get rid off everything that happened after the 24 hour for the cohort.\n",
    "2. Create one liner features, i.e. which can be represented as a single row per patient.\n",
    "    - gender,\n",
    "    - age,\n",
    "    - ethnicity,\n",
    "    - height,\n",
    "    - weight on admission\n",
    "    - hospital region - embedded - 2\n",
    "    - hospital unittype - embed - 2\n",
    "    - apache_groups - embedded - 3\n",
    "    - apacheapsvars - [imputed](https://scikit-learn.org/stable/modules/generated/sklearn.impute.IterativeImputer.html)\n",
    "    - apachepredvars - imputed (same as above)\n",
    "    - labsfirstday - imputed\n",
    "    - diagnoses - embedded and averaged\n",
    "3. Create time bucketed features. Here we deal with missing values by carrying forward the previous measurement, or in case of the first measurement, carrying that all the way back to the admission time.\n",
    "    - pivoted_lab - bucketed to 24 hours\n",
    "    - pivoted_bg - bucketed to 24 hours\n",
    "    - pivoted_med - bucketed to 24 hours\n",
    "    - pivotted_o2 - bucketed to 24 hours\n",
    "    - pivotted_score - bucketed to 24 hours\n",
    "    - pivotted_uo - bucketed to 24 hours\n",
    "    - pivotted_vital - bucketed to 24 hours\n",
    "    - pivotted_vital_other - bucketed to 24 hours"
   ]
  },
  {
   "cell_type": "code",
   "execution_count": 3,
   "metadata": {},
   "outputs": [],
   "source": [
    "def get_table_completeness(table):\n",
    "    \"\"\"\n",
    "    Quick helper that return column completeness for a table. \n",
    "    Note, it join on patients we're interested in for mortality\n",
    "    pred and restricts for the first 24 hours.\n",
    "    \"\"\"\n",
    "    \n",
    "    query = \"\"\"\n",
    "    select * from %s l \n",
    "    join patient_top5hospitals_mort_dataset p \n",
    "    on l.patientunitstayid=p.patientunitstayid \n",
    "    where chartoffset < 1440\n",
    "    \"\"\" % table\n",
    "    df = run_eicu_query(query, conn)\n",
    "    return (1-df.isnull().sum(axis=0)/df.shape[0])*100"
   ]
  },
  {
   "cell_type": "code",
   "execution_count": 34,
   "metadata": {},
   "outputs": [
    {
     "data": {
      "text/plain": [
       "patientunitstayid    100.000000\n",
       "chartoffset          100.000000\n",
       "entryoffset          100.000000\n",
       "o2_flow               41.555433\n",
       "o2_device             70.856865\n",
       "etco2                  1.263903\n",
       "patientunitstayid    100.000000\n",
       "hosp_mort             99.665268\n",
       "dtype: float64"
      ]
     },
     "execution_count": 34,
     "metadata": {},
     "output_type": "execute_result"
    }
   ],
   "source": [
    "get_table_completeness('pivoted_o2')"
   ]
  },
  {
   "cell_type": "markdown",
   "metadata": {},
   "source": [
    "### Create one row per patient features\n",
    "\n",
    "Start with the basic stay level variables"
   ]
  },
  {
   "cell_type": "code",
   "execution_count": 61,
   "metadata": {},
   "outputs": [],
   "source": [
    "import numpy as np\n",
    "from sklearn.impute import SimpleImputer\n",
    "from sklearn.experimental import enable_iterative_imputer\n",
    "from sklearn.impute import IterativeImputer"
   ]
  },
  {
   "cell_type": "code",
   "execution_count": 62,
   "metadata": {},
   "outputs": [],
   "source": [
    "query = \"\"\"\n",
    "select\n",
    "       i.patientunitstayid,\n",
    "       admissionheight,\n",
    "       admissionweight,\n",
    "       ethnicity,\n",
    "       region as hospital_region,\n",
    "       unittype,\n",
    "       apachedxgroup\n",
    "from (select patientunitstayid from patient_top5hospitals_mort_dataset) p\n",
    "join icustay_detail i\n",
    "on p.patientunitstayid=i.patientunitstayid\n",
    "join apache_groups ag\n",
    "on p.patientunitstayid=ag.patientunitstayid\n",
    "\"\"\"\n",
    "df_basic = run_eicu_query(query, conn)"
   ]
  },
  {
   "cell_type": "code",
   "execution_count": 63,
   "metadata": {},
   "outputs": [],
   "source": [
    "# add vars to numerical and non-numerical lists\n",
    "num_vars = [\n",
    "    'admissionheight',\n",
    "    'admissionweight',\n",
    "]\n",
    "cat_vars = [\n",
    "    'ethnicity',\n",
    "    'hospital_region',\n",
    "    'unittype',\n",
    "    'apachedxgroup'\n",
    "]"
   ]
  },
  {
   "cell_type": "markdown",
   "metadata": {},
   "source": [
    "Now add the more numerous apache and lab vars"
   ]
  },
  {
   "cell_type": "code",
   "execution_count": 64,
   "metadata": {},
   "outputs": [],
   "source": [
    "query = \"\"\"\n",
    "select *\n",
    "from (select patientunitstayid from patient_top5hospitals_mort_dataset) p\n",
    "left join apacheapsvar a1\n",
    "on p.patientunitstayid=a1.patientunitstayid\n",
    "left join apachepredvar a2\n",
    "on p.patientunitstayid=a2.patientunitstayid\n",
    "left join labsfirstday l\n",
    "on p.patientunitstayid=l.patientunitstayid\n",
    "\"\"\"\n",
    "df_apache_labs = run_eicu_query(query, conn)\n",
    "# get rid off duplicated unitstayid cols\n",
    "df_apache_labs = df_apache_labs.loc[:,~df_apache_labs.columns.duplicated()]"
   ]
  },
  {
   "cell_type": "code",
   "execution_count": 65,
   "metadata": {},
   "outputs": [],
   "source": [
    "# add numeric cols to the num vars\n",
    "float_cols = df_apache_labs.dtypes == 'float64'\n",
    "non_id_cols = ~df_apache_labs.columns.str.endswith('id')\n",
    "num_vars += list(df_apache_labs.columns[(float_cols & non_id_cols).ravel()].values)"
   ]
  },
  {
   "cell_type": "markdown",
   "metadata": {},
   "source": [
    "Merge apache_lab and basic tables"
   ]
  },
  {
   "cell_type": "code",
   "execution_count": 66,
   "metadata": {},
   "outputs": [],
   "source": [
    "df_basic_apache_labs = df_basic.set_index('patientunitstayid').join(df_apache_labs.set_index('patientunitstayid'))"
   ]
  },
  {
   "cell_type": "markdown",
   "metadata": {},
   "source": [
    "\n",
    "\n",
    "Impute missing values both for categorical vars (simple mode), and numerical vars (multivariate imputation)"
   ]
  },
  {
   "cell_type": "code",
   "execution_count": 75,
   "metadata": {},
   "outputs": [],
   "source": [
    "df = df_basic_apache_labs\n",
    "\n",
    "# make age numerical by replacing > 89 with 90\n",
    "df.age[df.age.isnull()] = 90\n",
    "df.age = df.age.astype(np.int)\n",
    "\n",
    "# Impute categorical missing data in the simples way\n",
    "imp = SimpleImputer(strategy=\"most_frequent\")\n",
    "df[cat_vars] = imp.fit_transform(df[cat_vars].astype('category'))"
   ]
  },
  {
   "cell_type": "code",
   "execution_count": 76,
   "metadata": {},
   "outputs": [],
   "source": [
    "# Impute missing values for numerical variables too using iterative imputer\n",
    "imp = IterativeImputer()\n",
    "df[num_vars] = imp.fit_transform(df[num_vars].values)"
   ]
  },
  {
   "cell_type": "code",
   "execution_count": 84,
   "metadata": {},
   "outputs": [],
   "source": [
    "df[cat_vars + num_vars].to_csv('one_row_per_patient_vars.csv')"
   ]
  }
 ],
 "metadata": {
  "kernelspec": {
   "display_name": "Python 3",
   "language": "python",
   "name": "python3"
  },
  "language_info": {
   "codemirror_mode": {
    "name": "ipython",
    "version": 3
   },
   "file_extension": ".py",
   "mimetype": "text/x-python",
   "name": "python",
   "nbconvert_exporter": "python",
   "pygments_lexer": "ipython3",
   "version": "3.6.7"
  }
 },
 "nbformat": 4,
 "nbformat_minor": 2
}
